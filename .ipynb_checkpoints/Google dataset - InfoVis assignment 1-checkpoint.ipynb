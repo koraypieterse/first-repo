{
 "cells": [
  {
   "cell_type": "code",
   "execution_count": 1,
   "id": "cc32b67c",
   "metadata": {},
   "outputs": [
    {
     "name": "stdout",
     "output_type": "stream",
     "text": [
      "    CensusTract    State   County  TotalPop   Men  Women  Hispanic  White  \\\n",
      "0  1.001020e+09  Alabama  Autauga      1948   940   1008       0.9   87.4   \n",
      "1  1.001020e+09  Alabama  Autauga      2156  1059   1097       0.8   40.4   \n",
      "2  1.001020e+09  Alabama  Autauga      2968  1364   1604       0.0   74.5   \n",
      "3  1.001020e+09  Alabama  Autauga      4423  2172   2251      10.5   82.8   \n",
      "4  1.001020e+09  Alabama  Autauga     10763  4922   5841       0.7   68.5   \n",
      "\n",
      "   Black  Native  ...  Employed  PrivateWork  PublicWork  SelfEmployed  \\\n",
      "0    7.7     0.3  ...       943         77.1        18.3           4.6   \n",
      "1   53.3     0.0  ...       753         77.0        16.9           6.1   \n",
      "2   18.6     0.5  ...      1373         64.1        23.6          12.3   \n",
      "3    3.7     1.6  ...      1782         75.7        21.2           3.1   \n",
      "4   24.8     0.0  ...      5037         67.1        27.6           5.3   \n",
      "\n",
      "   FamilyWork  Unemployment  CensusId  TractId  VotingAgeCitizen  CountyId  \n",
      "0         0.0           5.4       NaN      NaN               NaN       NaN  \n",
      "1         0.0          13.3       NaN      NaN               NaN       NaN  \n",
      "2         0.0           6.2       NaN      NaN               NaN       NaN  \n",
      "3         0.0          10.8       NaN      NaN               NaN       NaN  \n",
      "4         0.0           4.2       NaN      NaN               NaN       NaN  \n",
      "\n",
      "[5 rows x 41 columns]\n"
     ]
    }
   ],
   "source": [
    "import pandas as pd \n",
    "\n",
    "csv_files = ['acs2015_census_tract_data.csv', 'acs2015_county_data.csv', 'acs2017_census_tract_data.csv', 'acs2017_county_data.csv']\n",
    "\n",
    "dataframes = [pd.read_csv(file) for file in csv_files]\n",
    "\n",
    "combined_dataframe = pd.concat(dataframes)\n",
    "\n",
    "print(combined_dataframe.head())"
   ]
  },
  {
   "cell_type": "code",
   "execution_count": 7,
   "id": "522c6909",
   "metadata": {},
   "outputs": [
    {
     "name": "stdout",
     "output_type": "stream",
     "text": [
      "Number of instances: 154442\n",
      "Number of attributes: 41\n"
     ]
    }
   ],
   "source": [
    "num_instances = combined_dataframe.shape[0]\n",
    "num_attributes = combined_dataframe.shape[1]\n",
    "\n",
    "print(\"Number of instances:\", num_instances)\n",
    "print(\"Number of attributes:\", num_attributes)"
   ]
  },
  {
   "cell_type": "code",
   "execution_count": 9,
   "id": "070c1427",
   "metadata": {},
   "outputs": [
    {
     "name": "stdout",
     "output_type": "stream",
     "text": [
      "Index(['CensusTract', 'State', 'County', 'TotalPop', 'Men', 'Women',\n",
      "       'Hispanic', 'White', 'Black', 'Native', 'Asian', 'Pacific', 'Citizen',\n",
      "       'Income', 'IncomeErr', 'IncomePerCap', 'IncomePerCapErr', 'Poverty',\n",
      "       'ChildPoverty', 'Professional', 'Service', 'Office', 'Construction',\n",
      "       'Production', 'Drive', 'Carpool', 'Transit', 'Walk', 'OtherTransp',\n",
      "       'WorkAtHome', 'MeanCommute', 'Employed', 'PrivateWork', 'PublicWork',\n",
      "       'SelfEmployed', 'FamilyWork', 'Unemployment', 'CensusId', 'TractId',\n",
      "       'VotingAgeCitizen', 'CountyId'],\n",
      "      dtype='object')\n"
     ]
    }
   ],
   "source": [
    "variables = combined_dataframe.columns\n",
    "\n",
    "print(variables)"
   ]
  },
  {
   "cell_type": "code",
   "execution_count": 13,
   "id": "646f778a",
   "metadata": {},
   "outputs": [
    {
     "name": "stdout",
     "output_type": "stream",
     "text": [
      "CensusTract         float64\n",
      "State                object\n",
      "County               object\n",
      "TotalPop              int64\n",
      "Men                   int64\n",
      "Women                 int64\n",
      "Hispanic            float64\n",
      "White               float64\n",
      "Black               float64\n",
      "Native              float64\n",
      "Asian               float64\n",
      "Pacific             float64\n",
      "Citizen             float64\n",
      "Income              float64\n",
      "IncomeErr           float64\n",
      "IncomePerCap        float64\n",
      "IncomePerCapErr     float64\n",
      "Poverty             float64\n",
      "ChildPoverty        float64\n",
      "Professional        float64\n",
      "Service             float64\n",
      "Office              float64\n",
      "Construction        float64\n",
      "Production          float64\n",
      "Drive               float64\n",
      "Carpool             float64\n",
      "Transit             float64\n",
      "Walk                float64\n",
      "OtherTransp         float64\n",
      "WorkAtHome          float64\n",
      "MeanCommute         float64\n",
      "Employed              int64\n",
      "PrivateWork         float64\n",
      "PublicWork          float64\n",
      "SelfEmployed        float64\n",
      "FamilyWork          float64\n",
      "Unemployment        float64\n",
      "CensusId            float64\n",
      "TractId             float64\n",
      "VotingAgeCitizen    float64\n",
      "CountyId            float64\n",
      "dtype: object\n"
     ]
    }
   ],
   "source": [
    "variable_types = combined_dataframe.dtypes\n",
    "\n",
    "print(combined_dataframe.dtypes)"
   ]
  },
  {
   "cell_type": "code",
   "execution_count": 17,
   "id": "5ccb80fd",
   "metadata": {},
   "outputs": [
    {
     "data": {
      "text/html": [
       "<div>\n",
       "<style scoped>\n",
       "    .dataframe tbody tr th:only-of-type {\n",
       "        vertical-align: middle;\n",
       "    }\n",
       "\n",
       "    .dataframe tbody tr th {\n",
       "        vertical-align: top;\n",
       "    }\n",
       "\n",
       "    .dataframe thead th {\n",
       "        text-align: right;\n",
       "    }\n",
       "</style>\n",
       "<table border=\"1\" class=\"dataframe\">\n",
       "  <thead>\n",
       "    <tr style=\"text-align: right;\">\n",
       "      <th></th>\n",
       "      <th>IncomePerCap</th>\n",
       "      <th>Black</th>\n",
       "      <th>Income</th>\n",
       "      <th>Men</th>\n",
       "      <th>Women</th>\n",
       "    </tr>\n",
       "  </thead>\n",
       "  <tbody>\n",
       "    <tr>\n",
       "      <th>count</th>\n",
       "      <td>152957.000000</td>\n",
       "      <td>153056.000000</td>\n",
       "      <td>152225.000000</td>\n",
       "      <td>1.544420e+05</td>\n",
       "      <td>1.544420e+05</td>\n",
       "    </tr>\n",
       "    <tr>\n",
       "      <th>mean</th>\n",
       "      <td>29371.403963</td>\n",
       "      <td>13.086991</td>\n",
       "      <td>58665.595638</td>\n",
       "      <td>4.106666e+03</td>\n",
       "      <td>4.240434e+03</td>\n",
       "    </tr>\n",
       "    <tr>\n",
       "      <th>std</th>\n",
       "      <td>15388.515022</td>\n",
       "      <td>21.442707</td>\n",
       "      <td>29257.886012</td>\n",
       "      <td>3.362347e+04</td>\n",
       "      <td>3.487325e+04</td>\n",
       "    </tr>\n",
       "    <tr>\n",
       "      <th>min</th>\n",
       "      <td>32.000000</td>\n",
       "      <td>0.000000</td>\n",
       "      <td>2611.000000</td>\n",
       "      <td>0.000000e+00</td>\n",
       "      <td>0.000000e+00</td>\n",
       "    </tr>\n",
       "    <tr>\n",
       "      <th>25%</th>\n",
       "      <td>19880.000000</td>\n",
       "      <td>0.700000</td>\n",
       "      <td>39015.000000</td>\n",
       "      <td>1.434000e+03</td>\n",
       "      <td>1.485000e+03</td>\n",
       "    </tr>\n",
       "    <tr>\n",
       "      <th>50%</th>\n",
       "      <td>26116.000000</td>\n",
       "      <td>3.700000</td>\n",
       "      <td>52119.000000</td>\n",
       "      <td>2.041000e+03</td>\n",
       "      <td>2.119000e+03</td>\n",
       "    </tr>\n",
       "    <tr>\n",
       "      <th>75%</th>\n",
       "      <td>34758.000000</td>\n",
       "      <td>14.300000</td>\n",
       "      <td>71486.000000</td>\n",
       "      <td>2.797000e+03</td>\n",
       "      <td>2.894000e+03</td>\n",
       "    </tr>\n",
       "    <tr>\n",
       "      <th>max</th>\n",
       "      <td>254204.000000</td>\n",
       "      <td>100.000000</td>\n",
       "      <td>249750.000000</td>\n",
       "      <td>4.979641e+06</td>\n",
       "      <td>5.126081e+06</td>\n",
       "    </tr>\n",
       "  </tbody>\n",
       "</table>\n",
       "</div>"
      ],
      "text/plain": [
       "        IncomePerCap          Black         Income           Men         Women\n",
       "count  152957.000000  153056.000000  152225.000000  1.544420e+05  1.544420e+05\n",
       "mean    29371.403963      13.086991   58665.595638  4.106666e+03  4.240434e+03\n",
       "std     15388.515022      21.442707   29257.886012  3.362347e+04  3.487325e+04\n",
       "min        32.000000       0.000000    2611.000000  0.000000e+00  0.000000e+00\n",
       "25%     19880.000000       0.700000   39015.000000  1.434000e+03  1.485000e+03\n",
       "50%     26116.000000       3.700000   52119.000000  2.041000e+03  2.119000e+03\n",
       "75%     34758.000000      14.300000   71486.000000  2.797000e+03  2.894000e+03\n",
       "max    254204.000000     100.000000  249750.000000  4.979641e+06  5.126081e+06"
      ]
     },
     "metadata": {},
     "output_type": "display_data"
    }
   ],
   "source": [
    "variables = ['IncomePerCap', 'Black', 'Income', 'Men', 'Women']\n",
    "statistics = combined_dataframe[variables].describe()\n",
    "\n",
    "display(statistics)"
   ]
  },
  {
   "cell_type": "code",
   "execution_count": 20,
   "id": "d1b00d00",
   "metadata": {},
   "outputs": [
    {
     "name": "stdout",
     "output_type": "stream",
     "text": [
      "The variables in this dataset are:\n",
      "● CensusTract (Discrete, Ordinal)\n",
      "● State (Discrete, Categorical)\n",
      "● County (Discrete, Categorical)\n",
      "● TotalPop (Discrete, Ordinal)\n",
      "● Men (Discrete, Ordinal)\n",
      "● Women (Discrete, Ordinal)\n",
      "● Hispanic (Discrete, Ordinal)\n",
      "● White (Discrete, Ordinal)\n",
      "● Black (Discrete, Ordinal)\n",
      "● Native (Discrete, Ordinal)\n",
      "● Asian (Discrete, Ordinal)\n",
      "● Pacific (Discrete, Ordinal)\n",
      "● Citizen (Discrete, Ordinal)\n",
      "● Income (Discrete, Ordinal)\n",
      "● IncomeErr (Discrete, Ordinal)\n",
      "● IncomePerCap (Discrete, Ordinal)\n",
      "● IncomePerCapErr (Discrete, Ordinal)\n",
      "● Poverty (Discrete, Ordinal)\n",
      "● ChildPoverty (Discrete, Ordinal)\n",
      "● Professional (Discrete, Ordinal)\n",
      "● Service (Discrete, Ordinal)\n",
      "● Office (Discrete, Ordinal)\n",
      "● Construction (Discrete, Ordinal)\n",
      "● Production (Discrete, Ordinal)\n",
      "● Drive (Discrete, Ordinal)\n",
      "● Carpool (Discrete, Ordinal)\n",
      "● Transit (Discrete, Ordinal)\n",
      "● Walk (Discrete, Ordinal)\n",
      "● OtherTransp (Discrete, Ordinal)\n",
      "● WorkAtHome (Discrete, Ordinal)\n",
      "● MeanCommute (Discrete, Ordinal)\n",
      "● Employed (Discrete, Ordinal)\n",
      "● PrivateWork (Discrete, Ordinal)\n",
      "● PublicWork (Discrete, Ordinal)\n",
      "● SelfEmployed (Discrete, Ordinal)\n",
      "● FamilyWork (Discrete, Ordinal)\n",
      "● Unemployment (Discrete, Ordinal)\n",
      "● CensusId (Discrete, Ordinal)\n",
      "● TractId (Discrete, Ordinal)\n",
      "● VotingAgeCitizen (Discrete, Ordinal)\n",
      "● CountyId (Discrete, Ordinal)\n"
     ]
    }
   ],
   "source": [
    "# Create a list to store variable information\n",
    "variable_list = []\n",
    "\n",
    "# Iterate over the columns\n",
    "for column in combined_dataframe.columns:\n",
    "    variable_type = combined_dataframe[column].dtype\n",
    "    \n",
    "    # Determine the variable type\n",
    "    if variable_type == 'object':\n",
    "        variable_info = f\"● {column} (Discrete, Categorical)\"\n",
    "    elif variable_type.name == 'category':\n",
    "        variable_info = f\"● {column} (Discrete, Categorical)\"\n",
    "    elif pd.api.types.is_numeric_dtype(variable_type):\n",
    "        variable_info = f\"● {column} (Discrete, Ordinal)\"\n",
    "    elif pd.api.types.is_bool_dtype(variable_type):\n",
    "        variable_info = f\"● {column} (Binary)\"\n",
    "    else:\n",
    "        variable_info = f\"● {column} ({variable_type})\"\n",
    "    \n",
    "    variable_list.append(variable_info)\n",
    "\n",
    "# Print the list of variables\n",
    "print(\"The variables in this dataset are:\")\n",
    "for variable in variable_list:\n",
    "    print(variable)\n"
   ]
  },
  {
   "cell_type": "code",
   "execution_count": 1,
   "id": "a9d4abfc",
   "metadata": {},
   "outputs": [
    {
     "ename": "UnicodeDecodeError",
     "evalue": "'utf-8' codec can't decode byte 0x86 in position 11: invalid start byte",
     "output_type": "error",
     "traceback": [
      "\u001b[0;31m---------------------------------------------------------------------------\u001b[0m",
      "\u001b[0;31mUnicodeDecodeError\u001b[0m                        Traceback (most recent call last)",
      "Cell \u001b[0;32mIn[1], line 5\u001b[0m\n\u001b[1;32m      1\u001b[0m \u001b[38;5;28;01mimport\u001b[39;00m \u001b[38;5;21;01mpandas\u001b[39;00m \u001b[38;5;28;01mas\u001b[39;00m \u001b[38;5;21;01mpd\u001b[39;00m \n\u001b[1;32m      3\u001b[0m csv_files \u001b[38;5;241m=\u001b[39m [\u001b[38;5;124m'\u001b[39m\u001b[38;5;124mcommunities.csv\u001b[39m\u001b[38;5;124m'\u001b[39m]\n\u001b[0;32m----> 5\u001b[0m dataframes \u001b[38;5;241m=\u001b[39m [pd\u001b[38;5;241m.\u001b[39mread_csv(file) \u001b[38;5;28;01mfor\u001b[39;00m file \u001b[38;5;129;01min\u001b[39;00m csv_files]\n\u001b[1;32m      7\u001b[0m combined_dataframe \u001b[38;5;241m=\u001b[39m pd\u001b[38;5;241m.\u001b[39mconcat(dataframes)\n\u001b[1;32m      9\u001b[0m \u001b[38;5;28mprint\u001b[39m(combined_dataframe\u001b[38;5;241m.\u001b[39mhead())\n",
      "Cell \u001b[0;32mIn[1], line 5\u001b[0m, in \u001b[0;36m<listcomp>\u001b[0;34m(.0)\u001b[0m\n\u001b[1;32m      1\u001b[0m \u001b[38;5;28;01mimport\u001b[39;00m \u001b[38;5;21;01mpandas\u001b[39;00m \u001b[38;5;28;01mas\u001b[39;00m \u001b[38;5;21;01mpd\u001b[39;00m \n\u001b[1;32m      3\u001b[0m csv_files \u001b[38;5;241m=\u001b[39m [\u001b[38;5;124m'\u001b[39m\u001b[38;5;124mcommunities.csv\u001b[39m\u001b[38;5;124m'\u001b[39m]\n\u001b[0;32m----> 5\u001b[0m dataframes \u001b[38;5;241m=\u001b[39m [\u001b[43mpd\u001b[49m\u001b[38;5;241;43m.\u001b[39;49m\u001b[43mread_csv\u001b[49m\u001b[43m(\u001b[49m\u001b[43mfile\u001b[49m\u001b[43m)\u001b[49m \u001b[38;5;28;01mfor\u001b[39;00m file \u001b[38;5;129;01min\u001b[39;00m csv_files]\n\u001b[1;32m      7\u001b[0m combined_dataframe \u001b[38;5;241m=\u001b[39m pd\u001b[38;5;241m.\u001b[39mconcat(dataframes)\n\u001b[1;32m      9\u001b[0m \u001b[38;5;28mprint\u001b[39m(combined_dataframe\u001b[38;5;241m.\u001b[39mhead())\n",
      "File \u001b[0;32m~/anaconda3/lib/python3.10/site-packages/pandas/util/_decorators.py:211\u001b[0m, in \u001b[0;36mdeprecate_kwarg.<locals>._deprecate_kwarg.<locals>.wrapper\u001b[0;34m(*args, **kwargs)\u001b[0m\n\u001b[1;32m    209\u001b[0m     \u001b[38;5;28;01melse\u001b[39;00m:\n\u001b[1;32m    210\u001b[0m         kwargs[new_arg_name] \u001b[38;5;241m=\u001b[39m new_arg_value\n\u001b[0;32m--> 211\u001b[0m \u001b[38;5;28;01mreturn\u001b[39;00m \u001b[43mfunc\u001b[49m\u001b[43m(\u001b[49m\u001b[38;5;241;43m*\u001b[39;49m\u001b[43margs\u001b[49m\u001b[43m,\u001b[49m\u001b[43m \u001b[49m\u001b[38;5;241;43m*\u001b[39;49m\u001b[38;5;241;43m*\u001b[39;49m\u001b[43mkwargs\u001b[49m\u001b[43m)\u001b[49m\n",
      "File \u001b[0;32m~/anaconda3/lib/python3.10/site-packages/pandas/util/_decorators.py:331\u001b[0m, in \u001b[0;36mdeprecate_nonkeyword_arguments.<locals>.decorate.<locals>.wrapper\u001b[0;34m(*args, **kwargs)\u001b[0m\n\u001b[1;32m    325\u001b[0m \u001b[38;5;28;01mif\u001b[39;00m \u001b[38;5;28mlen\u001b[39m(args) \u001b[38;5;241m>\u001b[39m num_allow_args:\n\u001b[1;32m    326\u001b[0m     warnings\u001b[38;5;241m.\u001b[39mwarn(\n\u001b[1;32m    327\u001b[0m         msg\u001b[38;5;241m.\u001b[39mformat(arguments\u001b[38;5;241m=\u001b[39m_format_argument_list(allow_args)),\n\u001b[1;32m    328\u001b[0m         \u001b[38;5;167;01mFutureWarning\u001b[39;00m,\n\u001b[1;32m    329\u001b[0m         stacklevel\u001b[38;5;241m=\u001b[39mfind_stack_level(),\n\u001b[1;32m    330\u001b[0m     )\n\u001b[0;32m--> 331\u001b[0m \u001b[38;5;28;01mreturn\u001b[39;00m \u001b[43mfunc\u001b[49m\u001b[43m(\u001b[49m\u001b[38;5;241;43m*\u001b[39;49m\u001b[43margs\u001b[49m\u001b[43m,\u001b[49m\u001b[43m \u001b[49m\u001b[38;5;241;43m*\u001b[39;49m\u001b[38;5;241;43m*\u001b[39;49m\u001b[43mkwargs\u001b[49m\u001b[43m)\u001b[49m\n",
      "File \u001b[0;32m~/anaconda3/lib/python3.10/site-packages/pandas/io/parsers/readers.py:950\u001b[0m, in \u001b[0;36mread_csv\u001b[0;34m(filepath_or_buffer, sep, delimiter, header, names, index_col, usecols, squeeze, prefix, mangle_dupe_cols, dtype, engine, converters, true_values, false_values, skipinitialspace, skiprows, skipfooter, nrows, na_values, keep_default_na, na_filter, verbose, skip_blank_lines, parse_dates, infer_datetime_format, keep_date_col, date_parser, dayfirst, cache_dates, iterator, chunksize, compression, thousands, decimal, lineterminator, quotechar, quoting, doublequote, escapechar, comment, encoding, encoding_errors, dialect, error_bad_lines, warn_bad_lines, on_bad_lines, delim_whitespace, low_memory, memory_map, float_precision, storage_options)\u001b[0m\n\u001b[1;32m    935\u001b[0m kwds_defaults \u001b[38;5;241m=\u001b[39m _refine_defaults_read(\n\u001b[1;32m    936\u001b[0m     dialect,\n\u001b[1;32m    937\u001b[0m     delimiter,\n\u001b[0;32m   (...)\u001b[0m\n\u001b[1;32m    946\u001b[0m     defaults\u001b[38;5;241m=\u001b[39m{\u001b[38;5;124m\"\u001b[39m\u001b[38;5;124mdelimiter\u001b[39m\u001b[38;5;124m\"\u001b[39m: \u001b[38;5;124m\"\u001b[39m\u001b[38;5;124m,\u001b[39m\u001b[38;5;124m\"\u001b[39m},\n\u001b[1;32m    947\u001b[0m )\n\u001b[1;32m    948\u001b[0m kwds\u001b[38;5;241m.\u001b[39mupdate(kwds_defaults)\n\u001b[0;32m--> 950\u001b[0m \u001b[38;5;28;01mreturn\u001b[39;00m \u001b[43m_read\u001b[49m\u001b[43m(\u001b[49m\u001b[43mfilepath_or_buffer\u001b[49m\u001b[43m,\u001b[49m\u001b[43m \u001b[49m\u001b[43mkwds\u001b[49m\u001b[43m)\u001b[49m\n",
      "File \u001b[0;32m~/anaconda3/lib/python3.10/site-packages/pandas/io/parsers/readers.py:605\u001b[0m, in \u001b[0;36m_read\u001b[0;34m(filepath_or_buffer, kwds)\u001b[0m\n\u001b[1;32m    602\u001b[0m _validate_names(kwds\u001b[38;5;241m.\u001b[39mget(\u001b[38;5;124m\"\u001b[39m\u001b[38;5;124mnames\u001b[39m\u001b[38;5;124m\"\u001b[39m, \u001b[38;5;28;01mNone\u001b[39;00m))\n\u001b[1;32m    604\u001b[0m \u001b[38;5;66;03m# Create the parser.\u001b[39;00m\n\u001b[0;32m--> 605\u001b[0m parser \u001b[38;5;241m=\u001b[39m \u001b[43mTextFileReader\u001b[49m\u001b[43m(\u001b[49m\u001b[43mfilepath_or_buffer\u001b[49m\u001b[43m,\u001b[49m\u001b[43m \u001b[49m\u001b[38;5;241;43m*\u001b[39;49m\u001b[38;5;241;43m*\u001b[39;49m\u001b[43mkwds\u001b[49m\u001b[43m)\u001b[49m\n\u001b[1;32m    607\u001b[0m \u001b[38;5;28;01mif\u001b[39;00m chunksize \u001b[38;5;129;01mor\u001b[39;00m iterator:\n\u001b[1;32m    608\u001b[0m     \u001b[38;5;28;01mreturn\u001b[39;00m parser\n",
      "File \u001b[0;32m~/anaconda3/lib/python3.10/site-packages/pandas/io/parsers/readers.py:1442\u001b[0m, in \u001b[0;36mTextFileReader.__init__\u001b[0;34m(self, f, engine, **kwds)\u001b[0m\n\u001b[1;32m   1439\u001b[0m     \u001b[38;5;28mself\u001b[39m\u001b[38;5;241m.\u001b[39moptions[\u001b[38;5;124m\"\u001b[39m\u001b[38;5;124mhas_index_names\u001b[39m\u001b[38;5;124m\"\u001b[39m] \u001b[38;5;241m=\u001b[39m kwds[\u001b[38;5;124m\"\u001b[39m\u001b[38;5;124mhas_index_names\u001b[39m\u001b[38;5;124m\"\u001b[39m]\n\u001b[1;32m   1441\u001b[0m \u001b[38;5;28mself\u001b[39m\u001b[38;5;241m.\u001b[39mhandles: IOHandles \u001b[38;5;241m|\u001b[39m \u001b[38;5;28;01mNone\u001b[39;00m \u001b[38;5;241m=\u001b[39m \u001b[38;5;28;01mNone\u001b[39;00m\n\u001b[0;32m-> 1442\u001b[0m \u001b[38;5;28mself\u001b[39m\u001b[38;5;241m.\u001b[39m_engine \u001b[38;5;241m=\u001b[39m \u001b[38;5;28;43mself\u001b[39;49m\u001b[38;5;241;43m.\u001b[39;49m\u001b[43m_make_engine\u001b[49m\u001b[43m(\u001b[49m\u001b[43mf\u001b[49m\u001b[43m,\u001b[49m\u001b[43m \u001b[49m\u001b[38;5;28;43mself\u001b[39;49m\u001b[38;5;241;43m.\u001b[39;49m\u001b[43mengine\u001b[49m\u001b[43m)\u001b[49m\n",
      "File \u001b[0;32m~/anaconda3/lib/python3.10/site-packages/pandas/io/parsers/readers.py:1753\u001b[0m, in \u001b[0;36mTextFileReader._make_engine\u001b[0;34m(self, f, engine)\u001b[0m\n\u001b[1;32m   1750\u001b[0m     \u001b[38;5;28;01mraise\u001b[39;00m \u001b[38;5;167;01mValueError\u001b[39;00m(msg)\n\u001b[1;32m   1752\u001b[0m \u001b[38;5;28;01mtry\u001b[39;00m:\n\u001b[0;32m-> 1753\u001b[0m     \u001b[38;5;28;01mreturn\u001b[39;00m \u001b[43mmapping\u001b[49m\u001b[43m[\u001b[49m\u001b[43mengine\u001b[49m\u001b[43m]\u001b[49m\u001b[43m(\u001b[49m\u001b[43mf\u001b[49m\u001b[43m,\u001b[49m\u001b[43m \u001b[49m\u001b[38;5;241;43m*\u001b[39;49m\u001b[38;5;241;43m*\u001b[39;49m\u001b[38;5;28;43mself\u001b[39;49m\u001b[38;5;241;43m.\u001b[39;49m\u001b[43moptions\u001b[49m\u001b[43m)\u001b[49m\n\u001b[1;32m   1754\u001b[0m \u001b[38;5;28;01mexcept\u001b[39;00m \u001b[38;5;167;01mException\u001b[39;00m:\n\u001b[1;32m   1755\u001b[0m     \u001b[38;5;28;01mif\u001b[39;00m \u001b[38;5;28mself\u001b[39m\u001b[38;5;241m.\u001b[39mhandles \u001b[38;5;129;01mis\u001b[39;00m \u001b[38;5;129;01mnot\u001b[39;00m \u001b[38;5;28;01mNone\u001b[39;00m:\n",
      "File \u001b[0;32m~/anaconda3/lib/python3.10/site-packages/pandas/io/parsers/c_parser_wrapper.py:79\u001b[0m, in \u001b[0;36mCParserWrapper.__init__\u001b[0;34m(self, src, **kwds)\u001b[0m\n\u001b[1;32m     76\u001b[0m     kwds\u001b[38;5;241m.\u001b[39mpop(key, \u001b[38;5;28;01mNone\u001b[39;00m)\n\u001b[1;32m     78\u001b[0m kwds[\u001b[38;5;124m\"\u001b[39m\u001b[38;5;124mdtype\u001b[39m\u001b[38;5;124m\"\u001b[39m] \u001b[38;5;241m=\u001b[39m ensure_dtype_objs(kwds\u001b[38;5;241m.\u001b[39mget(\u001b[38;5;124m\"\u001b[39m\u001b[38;5;124mdtype\u001b[39m\u001b[38;5;124m\"\u001b[39m, \u001b[38;5;28;01mNone\u001b[39;00m))\n\u001b[0;32m---> 79\u001b[0m \u001b[38;5;28mself\u001b[39m\u001b[38;5;241m.\u001b[39m_reader \u001b[38;5;241m=\u001b[39m \u001b[43mparsers\u001b[49m\u001b[38;5;241;43m.\u001b[39;49m\u001b[43mTextReader\u001b[49m\u001b[43m(\u001b[49m\u001b[43msrc\u001b[49m\u001b[43m,\u001b[49m\u001b[43m \u001b[49m\u001b[38;5;241;43m*\u001b[39;49m\u001b[38;5;241;43m*\u001b[39;49m\u001b[43mkwds\u001b[49m\u001b[43m)\u001b[49m\n\u001b[1;32m     81\u001b[0m \u001b[38;5;28mself\u001b[39m\u001b[38;5;241m.\u001b[39munnamed_cols \u001b[38;5;241m=\u001b[39m \u001b[38;5;28mself\u001b[39m\u001b[38;5;241m.\u001b[39m_reader\u001b[38;5;241m.\u001b[39munnamed_cols\n\u001b[1;32m     83\u001b[0m \u001b[38;5;66;03m# error: Cannot determine type of 'names'\u001b[39;00m\n",
      "File \u001b[0;32m~/anaconda3/lib/python3.10/site-packages/pandas/_libs/parsers.pyx:547\u001b[0m, in \u001b[0;36mpandas._libs.parsers.TextReader.__cinit__\u001b[0;34m()\u001b[0m\n",
      "File \u001b[0;32m~/anaconda3/lib/python3.10/site-packages/pandas/_libs/parsers.pyx:636\u001b[0m, in \u001b[0;36mpandas._libs.parsers.TextReader._get_header\u001b[0;34m()\u001b[0m\n",
      "File \u001b[0;32m~/anaconda3/lib/python3.10/site-packages/pandas/_libs/parsers.pyx:852\u001b[0m, in \u001b[0;36mpandas._libs.parsers.TextReader._tokenize_rows\u001b[0;34m()\u001b[0m\n",
      "File \u001b[0;32m~/anaconda3/lib/python3.10/site-packages/pandas/_libs/parsers.pyx:1965\u001b[0m, in \u001b[0;36mpandas._libs.parsers.raise_parser_error\u001b[0;34m()\u001b[0m\n",
      "\u001b[0;31mUnicodeDecodeError\u001b[0m: 'utf-8' codec can't decode byte 0x86 in position 11: invalid start byte"
     ]
    }
   ],
   "source": [
    "import pandas as pd \n",
    "\n",
    "csv_files = ['communities.csv']\n",
    "\n",
    "dataframes = [pd.read_csv(file) for file in csv_files]\n",
    "\n",
    "combined_dataframe = pd.concat(dataframes)\n",
    "\n",
    "print(combined_dataframe.head())"
   ]
  }
 ],
 "metadata": {
  "kernelspec": {
   "display_name": "Python 3 (ipykernel)",
   "language": "python",
   "name": "python3"
  },
  "language_info": {
   "codemirror_mode": {
    "name": "ipython",
    "version": 3
   },
   "file_extension": ".py",
   "mimetype": "text/x-python",
   "name": "python",
   "nbconvert_exporter": "python",
   "pygments_lexer": "ipython3",
   "version": "3.10.9"
  }
 },
 "nbformat": 4,
 "nbformat_minor": 5
}
