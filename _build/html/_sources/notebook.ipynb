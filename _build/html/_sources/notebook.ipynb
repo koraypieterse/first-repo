{
 "cells": [
  {
   "cell_type": "markdown",
   "id": "52987f0f",
   "metadata": {},
   "source": [
    "# Datastory Draft C3 Informatievisualisatie\n",
    "- Thijs Schmidt (14605023)\n",
    "- Sofie Shamba (14610027)\n",
    "- Koray Pieterse (13722778)\n",
    "- Sam Busstra (14643286)"
   ]
  },
  {
   "cell_type": "markdown",
   "id": "1e1bb7c3",
   "metadata": {},
   "source": [
    "# Opwarming van de aarde, hoe zit dat nou?"
   ]
  },
  {
   "cell_type": "markdown",
   "id": "a2988297",
   "metadata": {},
   "source": [
    "## Introductie\n",
    "Klimaatverandering staat de laatste jaren wereldwijd hoog op de agenda. Volgens de Rijksoverheid (2023 ) is de gemiddelde temperatuur van de aarde namelijk met 1 graad gestegen. Niet alleen dat, maar ook de zeespiegel is in dezelfde tijd met 20 centimeter gestegen. Dit kan veel gevolgen hebben voor de mens en de natuur als het steeds warmer wordt op aarde. Zware stormen, grote overstromingen en een tekort aan drinkwater of voedsel zijn consequenties waar we in de toekomst mee moeten omgaan. Daarom hebben al veel landen, waaronder de Europese landen, al klimaatdoelstellingen voor de komende jaren. Met het oog op de toekomst is het daarom ook belangrijk om te kijken naar welke landen veel CO2-uitstoot hebben. Een reden voor de temperatuurverandering kan zijn, dat als een land een hoge CO2-uitstoot heeft, dat dat land ook een sterke temperatuurverandering ervaart. Het gaat daarbij om de nationale schaal en de bijdrage aan het broeikaseffect. De vuistregel die geldt is: hoe hoger de CO2-uitstoot binnen een land, hoe groter de verwachte temperatuurstijging binnen dat land. Een andere kijk op de klimaatverandering door de CO2-uitstoot kan zijn dat hoe groter een land is in vierkante kilometer, hoe groter de CO2-uitstoot. Hierbij is de populatie van een land ook belangrijk, omdat hoe meer mensen er in een land wonen hoe hoger de CO2-uitstoot waarschijnlijk is doordat al die mensen meer energie verbranden. "
   ]
  },
  {
   "cell_type": "code",
   "execution_count": 268,
   "id": "0dc309a7",
   "metadata": {},
   "outputs": [],
   "source": [
    "# Importeer alle benodigde packages\n",
    "import plotly.graph_objs as go\n",
    "import plotly.express as px\n",
    "import pandas as pd\n",
    "from pandas import Series, DataFrame\n",
    "import numpy as np\n",
    "np.seterr(divide='raise', over='raise', under='raise', invalid='raise')\n",
    "import matplotlib.pyplot as plt\n",
    "import matplotlib.patches as mpatches\n",
    "from mpl_toolkits.mplot3d import Axes3D\n",
    "import seaborn as sns"
   ]
  },
  {
   "cell_type": "markdown",
   "id": "c49d0c85",
   "metadata": {},
   "source": [
    "## Datapreprocessing\n",
    "Er worden 2 datasets gebruikt in het onderzoek. De eerste dataset ‘CO2 Emission by countries Year wise (1750-2022)’ van Kaggle.com gaat over de CO2-uitstoot door landen per jaar, van 1750 tot 2022. Met de dataset kunnen voorspellingen worden gedaan over klimaatverandering en de opwarming van de aarde. Voor elk land wordt aangegeven hoeveel CO2 het heeft uitgestoten. De tweede dataset ‘Temperature Change’ van Kaggle.com bevat data over de gemiddelde temperatuurverandering per land. De gegevens in de dataset bevatten wekelijkse, maandelijkse en jaarlijkse temperatuurafwijkingen gedurende de periode van 1961-2019. \n",
    "De data van de datasets wordt 'processed' door de relevante variabelen te selecteren aan de hand van de perspectieven en de argumenten die zijn gesteld. We gebruiken de landen als ‘key variabel’ en de jaren 2010-2019 om de twee datasets met elkaar te vergelijken. Ook worden de ontbrekende waarden in de datasets gefilterd en eruit gehaald. Om de data met elkaar te vergelijken wordt de gemiddelde jaarlijkse uitstoot per land tussen 2010 en 2019 genomen. Vervolgens wordt de uitstoot per vierkante kilometer berekend door de gemiddelde jaarlijkse uitstoot te delen door de totale oppervlakte van het land. Daarna wordt dit ook gedaan voor de bevolking, door de gemiddelde jaarlijkse uitstoot te delen door de bevolking, waardoor je de gemiddelde jaarlijkse uitstoot per hoofd krijgt voor ieder land. "
   ]
  },
  {
   "cell_type": "code",
   "execution_count": 269,
   "id": "88375ac8",
   "metadata": {},
   "outputs": [
    {
     "data": {
      "text/html": [
       "<div>\n",
       "<style scoped>\n",
       "    .dataframe tbody tr th:only-of-type {\n",
       "        vertical-align: middle;\n",
       "    }\n",
       "\n",
       "    .dataframe tbody tr th {\n",
       "        vertical-align: top;\n",
       "    }\n",
       "\n",
       "    .dataframe thead th {\n",
       "        text-align: right;\n",
       "    }\n",
       "</style>\n",
       "<table border=\"1\" class=\"dataframe\">\n",
       "  <thead>\n",
       "    <tr style=\"text-align: right;\">\n",
       "      <th></th>\n",
       "      <th>Country</th>\n",
       "      <th>Code</th>\n",
       "      <th>Calling Code</th>\n",
       "      <th>Year</th>\n",
       "      <th>CO2 emission (Tons)</th>\n",
       "      <th>Population(2022)</th>\n",
       "      <th>Area</th>\n",
       "      <th>% of World</th>\n",
       "      <th>Density(km2)</th>\n",
       "    </tr>\n",
       "  </thead>\n",
       "  <tbody>\n",
       "    <tr>\n",
       "      <th>0</th>\n",
       "      <td>Afghanistan</td>\n",
       "      <td>AF</td>\n",
       "      <td>93</td>\n",
       "      <td>1750</td>\n",
       "      <td>0.0</td>\n",
       "      <td>41128771.0</td>\n",
       "      <td>652230.0</td>\n",
       "      <td>0.40%</td>\n",
       "      <td>63/km²</td>\n",
       "    </tr>\n",
       "    <tr>\n",
       "      <th>1</th>\n",
       "      <td>Afghanistan</td>\n",
       "      <td>AF</td>\n",
       "      <td>93</td>\n",
       "      <td>1751</td>\n",
       "      <td>0.0</td>\n",
       "      <td>41128771.0</td>\n",
       "      <td>652230.0</td>\n",
       "      <td>0.40%</td>\n",
       "      <td>63/km²</td>\n",
       "    </tr>\n",
       "    <tr>\n",
       "      <th>2</th>\n",
       "      <td>Afghanistan</td>\n",
       "      <td>AF</td>\n",
       "      <td>93</td>\n",
       "      <td>1752</td>\n",
       "      <td>0.0</td>\n",
       "      <td>41128771.0</td>\n",
       "      <td>652230.0</td>\n",
       "      <td>0.40%</td>\n",
       "      <td>63/km²</td>\n",
       "    </tr>\n",
       "    <tr>\n",
       "      <th>3</th>\n",
       "      <td>Afghanistan</td>\n",
       "      <td>AF</td>\n",
       "      <td>93</td>\n",
       "      <td>1753</td>\n",
       "      <td>0.0</td>\n",
       "      <td>41128771.0</td>\n",
       "      <td>652230.0</td>\n",
       "      <td>0.40%</td>\n",
       "      <td>63/km²</td>\n",
       "    </tr>\n",
       "    <tr>\n",
       "      <th>4</th>\n",
       "      <td>Afghanistan</td>\n",
       "      <td>AF</td>\n",
       "      <td>93</td>\n",
       "      <td>1754</td>\n",
       "      <td>0.0</td>\n",
       "      <td>41128771.0</td>\n",
       "      <td>652230.0</td>\n",
       "      <td>0.40%</td>\n",
       "      <td>63/km²</td>\n",
       "    </tr>\n",
       "    <tr>\n",
       "      <th>...</th>\n",
       "      <td>...</td>\n",
       "      <td>...</td>\n",
       "      <td>...</td>\n",
       "      <td>...</td>\n",
       "      <td>...</td>\n",
       "      <td>...</td>\n",
       "      <td>...</td>\n",
       "      <td>...</td>\n",
       "      <td>...</td>\n",
       "    </tr>\n",
       "    <tr>\n",
       "      <th>59615</th>\n",
       "      <td>Zimbabwe</td>\n",
       "      <td>ZW</td>\n",
       "      <td>263</td>\n",
       "      <td>2016</td>\n",
       "      <td>736467042.0</td>\n",
       "      <td>16320537.0</td>\n",
       "      <td>390757.0</td>\n",
       "      <td>0.30%</td>\n",
       "      <td>42/km²</td>\n",
       "    </tr>\n",
       "    <tr>\n",
       "      <th>59616</th>\n",
       "      <td>Zimbabwe</td>\n",
       "      <td>ZW</td>\n",
       "      <td>263</td>\n",
       "      <td>2017</td>\n",
       "      <td>746048675.0</td>\n",
       "      <td>16320537.0</td>\n",
       "      <td>390757.0</td>\n",
       "      <td>0.30%</td>\n",
       "      <td>42/km²</td>\n",
       "    </tr>\n",
       "    <tr>\n",
       "      <th>59617</th>\n",
       "      <td>Zimbabwe</td>\n",
       "      <td>ZW</td>\n",
       "      <td>263</td>\n",
       "      <td>2018</td>\n",
       "      <td>757903042.0</td>\n",
       "      <td>16320537.0</td>\n",
       "      <td>390757.0</td>\n",
       "      <td>0.30%</td>\n",
       "      <td>42/km²</td>\n",
       "    </tr>\n",
       "    <tr>\n",
       "      <th>59618</th>\n",
       "      <td>Zimbabwe</td>\n",
       "      <td>ZW</td>\n",
       "      <td>263</td>\n",
       "      <td>2019</td>\n",
       "      <td>768852126.0</td>\n",
       "      <td>16320537.0</td>\n",
       "      <td>390757.0</td>\n",
       "      <td>0.30%</td>\n",
       "      <td>42/km²</td>\n",
       "    </tr>\n",
       "    <tr>\n",
       "      <th>59619</th>\n",
       "      <td>Zimbabwe</td>\n",
       "      <td>ZW</td>\n",
       "      <td>263</td>\n",
       "      <td>2020</td>\n",
       "      <td>779383468.0</td>\n",
       "      <td>16320537.0</td>\n",
       "      <td>390757.0</td>\n",
       "      <td>0.30%</td>\n",
       "      <td>42/km²</td>\n",
       "    </tr>\n",
       "  </tbody>\n",
       "</table>\n",
       "<p>59620 rows × 9 columns</p>\n",
       "</div>"
      ],
      "text/plain": [
       "           Country Code Calling Code  Year  CO2 emission (Tons)  \\\n",
       "0      Afghanistan   AF           93  1750                  0.0   \n",
       "1      Afghanistan   AF           93  1751                  0.0   \n",
       "2      Afghanistan   AF           93  1752                  0.0   \n",
       "3      Afghanistan   AF           93  1753                  0.0   \n",
       "4      Afghanistan   AF           93  1754                  0.0   \n",
       "...            ...  ...          ...   ...                  ...   \n",
       "59615     Zimbabwe   ZW          263  2016          736467042.0   \n",
       "59616     Zimbabwe   ZW          263  2017          746048675.0   \n",
       "59617     Zimbabwe   ZW          263  2018          757903042.0   \n",
       "59618     Zimbabwe   ZW          263  2019          768852126.0   \n",
       "59619     Zimbabwe   ZW          263  2020          779383468.0   \n",
       "\n",
       "       Population(2022)      Area % of World Density(km2)  \n",
       "0            41128771.0  652230.0      0.40%       63/km²  \n",
       "1            41128771.0  652230.0      0.40%       63/km²  \n",
       "2            41128771.0  652230.0      0.40%       63/km²  \n",
       "3            41128771.0  652230.0      0.40%       63/km²  \n",
       "4            41128771.0  652230.0      0.40%       63/km²  \n",
       "...                 ...       ...        ...          ...  \n",
       "59615        16320537.0  390757.0      0.30%       42/km²  \n",
       "59616        16320537.0  390757.0      0.30%       42/km²  \n",
       "59617        16320537.0  390757.0      0.30%       42/km²  \n",
       "59618        16320537.0  390757.0      0.30%       42/km²  \n",
       "59619        16320537.0  390757.0      0.30%       42/km²  \n",
       "\n",
       "[59620 rows x 9 columns]"
      ]
     },
     "execution_count": 269,
     "metadata": {},
     "output_type": "execute_result"
    }
   ],
   "source": [
    "# lees dataframe CO2 in\n",
    "CO2 = pd.read_csv('CO2.csv', encoding='latin-1')\n",
    "CO2"
   ]
  },
  {
   "cell_type": "code",
   "execution_count": 270,
   "id": "ac0ebf96",
   "metadata": {},
   "outputs": [
    {
     "name": "stderr",
     "output_type": "stream",
     "text": [
      "C:\\Users\\thijs\\AppData\\Local\\Temp\\ipykernel_9288\\3844233090.py:5: FutureWarning:\n",
      "\n",
      "The default value of numeric_only in DataFrameGroupBy.mean is deprecated. In a future version, numeric_only will default to False. Either specify numeric_only or select only columns which should be valid for the function.\n",
      "\n"
     ]
    },
    {
     "data": {
      "text/html": [
       "<div>\n",
       "<style scoped>\n",
       "    .dataframe tbody tr th:only-of-type {\n",
       "        vertical-align: middle;\n",
       "    }\n",
       "\n",
       "    .dataframe tbody tr th {\n",
       "        vertical-align: top;\n",
       "    }\n",
       "\n",
       "    .dataframe thead th {\n",
       "        text-align: right;\n",
       "    }\n",
       "</style>\n",
       "<table border=\"1\" class=\"dataframe\">\n",
       "  <thead>\n",
       "    <tr style=\"text-align: right;\">\n",
       "      <th></th>\n",
       "      <th>CO2 emission (Tons)</th>\n",
       "      <th>Population(2022)</th>\n",
       "      <th>Area</th>\n",
       "      <th>Uitstoot per km2</th>\n",
       "      <th>Uitstoot per hoofd vd bevolking</th>\n",
       "    </tr>\n",
       "    <tr>\n",
       "      <th>Country</th>\n",
       "      <th></th>\n",
       "      <th></th>\n",
       "      <th></th>\n",
       "      <th></th>\n",
       "      <th></th>\n",
       "    </tr>\n",
       "  </thead>\n",
       "  <tbody>\n",
       "    <tr>\n",
       "      <th>Afghanistan</th>\n",
       "      <td>1.413836e+08</td>\n",
       "      <td>41128771.0</td>\n",
       "      <td>652230.0</td>\n",
       "      <td>216.769580</td>\n",
       "      <td>3.437584</td>\n",
       "    </tr>\n",
       "    <tr>\n",
       "      <th>Albania</th>\n",
       "      <td>2.589859e+08</td>\n",
       "      <td>2842321.0</td>\n",
       "      <td>28748.0</td>\n",
       "      <td>9008.833373</td>\n",
       "      <td>91.117767</td>\n",
       "    </tr>\n",
       "    <tr>\n",
       "      <th>Algeria</th>\n",
       "      <td>3.745971e+09</td>\n",
       "      <td>44903225.0</td>\n",
       "      <td>2381741.0</td>\n",
       "      <td>1572.786779</td>\n",
       "      <td>83.423201</td>\n",
       "    </tr>\n",
       "    <tr>\n",
       "      <th>Andorra</th>\n",
       "      <td>1.244330e+07</td>\n",
       "      <td>79824.0</td>\n",
       "      <td>468.0</td>\n",
       "      <td>26588.244444</td>\n",
       "      <td>155.884175</td>\n",
       "    </tr>\n",
       "    <tr>\n",
       "      <th>Angola</th>\n",
       "      <td>5.307960e+08</td>\n",
       "      <td>35588987.0</td>\n",
       "      <td>1246700.0</td>\n",
       "      <td>425.760835</td>\n",
       "      <td>14.914615</td>\n",
       "    </tr>\n",
       "    <tr>\n",
       "      <th>...</th>\n",
       "      <td>...</td>\n",
       "      <td>...</td>\n",
       "      <td>...</td>\n",
       "      <td>...</td>\n",
       "      <td>...</td>\n",
       "    </tr>\n",
       "    <tr>\n",
       "      <th>Vietnam</th>\n",
       "      <td>2.804876e+09</td>\n",
       "      <td>98186856.0</td>\n",
       "      <td>331212.0</td>\n",
       "      <td>8468.522025</td>\n",
       "      <td>28.566717</td>\n",
       "    </tr>\n",
       "    <tr>\n",
       "      <th>Wallis and Futuna</th>\n",
       "      <td>3.690437e+05</td>\n",
       "      <td>NaN</td>\n",
       "      <td>NaN</td>\n",
       "      <td>NaN</td>\n",
       "      <td>NaN</td>\n",
       "    </tr>\n",
       "    <tr>\n",
       "      <th>Yemen</th>\n",
       "      <td>5.554037e+08</td>\n",
       "      <td>33696614.0</td>\n",
       "      <td>527968.0</td>\n",
       "      <td>1051.964625</td>\n",
       "      <td>16.482477</td>\n",
       "    </tr>\n",
       "    <tr>\n",
       "      <th>Zambia</th>\n",
       "      <td>2.142695e+08</td>\n",
       "      <td>20017675.0</td>\n",
       "      <td>752612.0</td>\n",
       "      <td>284.701201</td>\n",
       "      <td>10.704017</td>\n",
       "    </tr>\n",
       "    <tr>\n",
       "      <th>Zimbabwe</th>\n",
       "      <td>7.193877e+08</td>\n",
       "      <td>16320537.0</td>\n",
       "      <td>390757.0</td>\n",
       "      <td>1841.010490</td>\n",
       "      <td>44.078680</td>\n",
       "    </tr>\n",
       "  </tbody>\n",
       "</table>\n",
       "<p>220 rows × 5 columns</p>\n",
       "</div>"
      ],
      "text/plain": [
       "                   CO2 emission (Tons)  Population(2022)       Area  \\\n",
       "Country                                                               \n",
       "Afghanistan               1.413836e+08        41128771.0   652230.0   \n",
       "Albania                   2.589859e+08         2842321.0    28748.0   \n",
       "Algeria                   3.745971e+09        44903225.0  2381741.0   \n",
       "Andorra                   1.244330e+07           79824.0      468.0   \n",
       "Angola                    5.307960e+08        35588987.0  1246700.0   \n",
       "...                                ...               ...        ...   \n",
       "Vietnam                   2.804876e+09        98186856.0   331212.0   \n",
       "Wallis and Futuna         3.690437e+05               NaN        NaN   \n",
       "Yemen                     5.554037e+08        33696614.0   527968.0   \n",
       "Zambia                    2.142695e+08        20017675.0   752612.0   \n",
       "Zimbabwe                  7.193877e+08        16320537.0   390757.0   \n",
       "\n",
       "                   Uitstoot per km2  Uitstoot per hoofd vd bevolking  \n",
       "Country                                                               \n",
       "Afghanistan              216.769580                         3.437584  \n",
       "Albania                 9008.833373                        91.117767  \n",
       "Algeria                 1572.786779                        83.423201  \n",
       "Andorra                26588.244444                       155.884175  \n",
       "Angola                   425.760835                        14.914615  \n",
       "...                             ...                              ...  \n",
       "Vietnam                 8468.522025                        28.566717  \n",
       "Wallis and Futuna               NaN                              NaN  \n",
       "Yemen                   1051.964625                        16.482477  \n",
       "Zambia                   284.701201                        10.704017  \n",
       "Zimbabwe                1841.010490                        44.078680  \n",
       "\n",
       "[220 rows x 5 columns]"
      ]
     },
     "execution_count": 270,
     "metadata": {},
     "output_type": "execute_result"
    }
   ],
   "source": [
    "# filter de CO2 dataframe\n",
    "filtered_CO2 = CO2.loc[(CO2['Year'] >= 2010) & (CO2['Year'] <= 2019)]\n",
    "\n",
    "# groepeer de dataframe op land\n",
    "CO2_grouped = filtered_CO2.groupby('Country').mean()\n",
    "CO2_grouped = CO2_grouped.drop('Year', axis=1)\n",
    "\n",
    "# maak nieuwe kolommen aan voor uitstoot per km2 en hoofd bevolking\n",
    "CO2_grouped['Uitstoot per km2'] = CO2_grouped['CO2 emission (Tons)'] / CO2_grouped['Area']\n",
    "CO2_grouped['Uitstoot per hoofd vd bevolking'] = CO2_grouped['CO2 emission (Tons)'] / CO2_grouped['Population(2022)']\n",
    "\n",
    "# laat geüpdate frame zien\n",
    "CO2_grouped"
   ]
  },
  {
   "cell_type": "markdown",
   "id": "a33da45a",
   "metadata": {},
   "source": [
    "### PLOT 1: 3D spreidingsplot over bevolking, oppervlakte en uitstoot"
   ]
  },
  {
   "cell_type": "code",
   "execution_count": 271,
   "id": "00945da2",
   "metadata": {},
   "outputs": [
    {
     "data": {
      "application/vnd.plotly.v1+json": {
       "config": {
        "plotlyServerURL": "https://plot.ly"
       },
       "data": [
        {
         "marker": {
          "color": [
           141383623,
           258985941.8,
           3745970756,
           12443298.4,
           530796032.4,
           2654958.7,
           153888,
           18922634.1,
           7446420404.7,
           352528497.5,
           70975377.9,
           16397738878.9,
           5141797391.4,
           2299605147.1,
           156468022,
           746510322.7,
           1116685617.2,
           48107334.4,
           4576984204.1,
           12008853169.6,
           15813710.1,
           76479027,
           25755904.8,
           11484250.6,
           408828099.1,
           834732128.2,
           114290248.8,
           13507299568.7,
           310178563.6,
           3590232097,
           43814591.2,
           10050090,
           93342745.7,
           175102484.4,
           30461195670.9,
           10237609.5,
           9489186.2,
           20896397.7,
           2447152339.2,
           179600000000,
           1330032,
           2913119593.7,
           3962422.2,
           60044720.3,
           1783872,
           210794071,
           277088958,
           980055144.9,
           1478255087.1,
           533591250.3,
           253891252.1,
           11354986210.3,
           178097519.2,
           3896833556.7,
           16672313.5,
           3919361.2,
           609792024.7,
           991522676.7,
           5076292073.6,
           196712225.8,
           119422176.4,
           13968785.1,
           1543668133.5,
           35176393.8,
           180528717.6,
           26924495.6,
           42202782.4,
           2944676512.9,
           36964637214,
           23574448.3,
           24408373.2,
           231937715.5,
           11114480,
           605451188.2,
           88509205419.9,
           285000226.2,
           3688398396.5,
           30078197.6,
           6672761.5,
           70046223.8,
           348387684.8,
           69164394.2,
           8490116,
           88174278.1,
           59774662,
           203046928.7,
           1395879474.4,
           4747730657,
           132899386.1,
           41208010378.3,
           11205955898.8,
           15130258021.9,
           3569067641.7,
           2017567936.2,
           2044423791.5,
           22833847339.5,
           409365795.2,
           59230891010.5,
           562769217.9,
           12302895411.5,
           377055424.8,
           1742068.5,
           60228672.6,
           2368998436.7,
           803825972,
           67393556.5,
           909959312.8,
           591141940.7,
           50861630.3,
           46359631.8,
           1838179518.7,
           5267519.6,
           1482841851.8,
           702152973.3,
           48406210.2,
           76642490.5,
           43224409.9,
           4653706776.2,
           16356688.4,
           44797177.3,
           94935849.7,
           2612516.6,
           75649400.8,
           58221313.4,
           92251042.9,
           4874705.2,
           17622102727.1,
           2930174.1,
           1351276665.3,
           496289013.1,
           91038777.8,
           1429256.2,
           1397610377.9,
           139439230.7,
           458690022,
           54728283.6,
           4562215.5,
           98768915.8,
           10879295571.4,
           122366189.2,
           1691518863.3,
           148517777.8,
           36134166.2,
           3240051803.3,
           237827.4,
           4902926452.1,
           595214140.8,
           2391435509,
           912730258.6,
           3999534114.1,
           9371700.3,
           43227478.8,
           248757199.7,
           134601519,
           137589036.9,
           1661781707.3,
           2690663207.9,
           26099760794.4,
           2346249477.8,
           208848,
           1543197943,
           99203776.9,
           8077611619.5,
           106392044227.7,
           23078733.2,
           318375.3,
           5059762.6,
           11697932.6,
           3342893.2,
           5703536.2,
           5501496.1,
           2687346.3,
           12516372282.7,
           187090140.5,
           2488866386.7,
           10534584.5,
           30989080.3,
           1899962129.8,
           63802266.1,
           3681517868.3,
           773926794.1,
           8767743.5,
           29451117.1,
           18614936970.6,
           14826172367,
           30413532.2,
           13455636544,
           385852263.3,
           337834235.5,
           101558877.1,
           4756050561.3,
           2817118146.1,
           1693405768.1,
           7519534461.5,
           449555571,
           183283838.8,
           5849299055.1,
           3702207.2,
           54363375.6,
           3640612.4,
           1344887137.8,
           743352036.2,
           8669975637.7,
           2041757202,
           2750369.7,
           235984.1,
           78386879.1,
           29267056719.6,
           3725808866.5,
           76008796833.3,
           388100000000,
           335212643.2,
           5703313725.7,
           3886213.2,
           7088910081.8,
           2804876117.1,
           369043.7,
           555403659.2,
           214269540.2,
           719387735.9
          ],
          "colorscale": [
           [
            0,
            "#440154"
           ],
           [
            0.1111111111111111,
            "#482878"
           ],
           [
            0.2222222222222222,
            "#3e4989"
           ],
           [
            0.3333333333333333,
            "#31688e"
           ],
           [
            0.4444444444444444,
            "#26828e"
           ],
           [
            0.5555555555555556,
            "#1f9e89"
           ],
           [
            0.6666666666666666,
            "#35b779"
           ],
           [
            0.7777777777777778,
            "#6ece58"
           ],
           [
            0.8888888888888888,
            "#b5de2b"
           ],
           [
            1,
            "#fde725"
           ]
          ],
          "opacity": 0.8,
          "size": 8
         },
         "mode": "markers",
         "type": "scatter3d",
         "x": [
          41128771,
          2842321,
          44903225,
          79824,
          35588987,
          null,
          null,
          93763,
          45510318,
          2780469,
          null,
          26177413,
          8939617,
          10358074,
          409984,
          1472233,
          171186372,
          281635,
          9534954,
          11655930,
          405272,
          13352864,
          null,
          782455,
          12224110,
          3233526,
          2630296,
          215313498,
          449002,
          6781953,
          22673762,
          12889576,
          16767842,
          27914536,
          38454327,
          593149,
          5579144,
          17723315,
          19603733,
          1425887337,
          null,
          51874024,
          836774,
          null,
          null,
          5180829,
          null,
          4030358,
          11212191,
          null,
          1251488,
          null,
          null,
          5882261,
          1120849,
          72737,
          11228821,
          18001000,
          110990103,
          6336392,
          1674908,
          3684032,
          1326062,
          1201670,
          123379924,
          null,
          929766,
          5540745,
          64626628,
          304557,
          null,
          2388992,
          2705992,
          3744385,
          83369843,
          33475870,
          10384971,
          56466,
          125438,
          395752,
          17843908,
          13859341,
          null,
          808726,
          11584996,
          10432860,
          7488865,
          9967308,
          372899,
          1417173173,
          275501339,
          88550570,
          44496122,
          5023109,
          9038309,
          59037474,
          2827377,
          123951692,
          11285869,
          19397998,
          54027487,
          131232,
          1802250,
          4268873,
          6630623,
          7529475,
          1850651,
          5489739,
          2305825,
          5302681,
          6812341,
          39327,
          2750055,
          647599,
          null,
          29611714,
          20405317,
          33938221,
          523787,
          22593590,
          533286,
          41569,
          367507,
          4736139,
          1299469,
          326101,
          127504125,
          114164,
          3272996,
          3398366,
          627082,
          null,
          37457971,
          32969518,
          54179306,
          2567012,
          12668,
          30547580,
          17564014,
          null,
          5185288,
          6948392,
          26207977,
          218541212,
          null,
          26069416,
          2093599,
          5434319,
          4576298,
          235824862,
          18055,
          5250072,
          4408581,
          10142619,
          6780744,
          34049588,
          115559009,
          39857145,
          10270865,
          3252407,
          2695122,
          974052,
          19659267,
          144713314,
          13776698,
          null,
          47657,
          179857,
          null,
          103948,
          222382,
          227380,
          36408820,
          17316449,
          7221365,
          107118,
          8605718,
          5975689,
          null,
          5643453,
          2119844,
          724273,
          17597511,
          59893885,
          51815810,
          10913164,
          47558630,
          21832143,
          46874204,
          618040,
          10549347,
          8740472,
          22125249,
          23893394,
          9952787,
          65497748,
          71697030,
          null,
          8848699,
          106858,
          1531044,
          12356117,
          85341241,
          6430770,
          null,
          11312,
          47249585,
          39701739,
          9441129,
          67508936,
          338289857,
          3422794,
          34627652,
          326740,
          28301696,
          98186856,
          null,
          33696614,
          20017675,
          16320537
         ],
         "y": [
          652230,
          28748,
          2381741,
          468,
          1246700,
          91,
          null,
          442,
          2780400,
          29743,
          180,
          7692024,
          83871,
          86600,
          13943,
          765,
          147570,
          430,
          207600,
          30528,
          22966,
          112622,
          54,
          38394,
          1098581,
          51209,
          582000,
          8515767,
          null,
          110879,
          272967,
          27834,
          181035,
          475442,
          9984670,
          null,
          622984,
          1284000,
          756102,
          9706961,
          null,
          1141748,
          1862,
          342000,
          236,
          51100,
          null,
          56594,
          109884,
          null,
          9251,
          78865,
          null,
          43094,
          23200,
          751,
          48671,
          276841,
          1002450,
          21041,
          28051,
          117600,
          45227,
          17364,
          1104300,
          1393,
          18272,
          338424,
          551695,
          83534,
          4167,
          267668,
          10689,
          69700,
          357114,
          238533,
          131990,
          2166086,
          344,
          1628,
          108889,
          245857,
          36125,
          214969,
          27750,
          112492,
          null,
          93028,
          103000,
          3287590,
          1904569,
          1648195,
          438317,
          70273,
          20770,
          301336,
          10991,
          377930,
          89342,
          2724900,
          580367,
          811,
          null,
          17818,
          199951,
          236800,
          64559,
          10452,
          30355,
          111369,
          1759540,
          160,
          65300,
          2586,
          null,
          587041,
          118484,
          330803,
          300,
          1240192,
          316,
          181,
          1128,
          1030700,
          2040,
          374,
          1964375,
          702,
          33846,
          1564110,
          13812,
          102,
          446550,
          801590,
          676578,
          825615,
          21,
          147181,
          41850,
          18575,
          270467,
          130373,
          1267000,
          923768,
          260,
          120538,
          null,
          323802,
          309500,
          881912,
          459,
          null,
          75417,
          462840,
          406752,
          1285216,
          342353,
          312679,
          92090,
          8870,
          11586,
          null,
          238391,
          17098242,
          26338,
          394,
          261,
          616,
          242,
          389,
          2842,
          964,
          2149690,
          196722,
          88361,
          452,
          71740,
          710,
          null,
          49037,
          20273,
          28896,
          637657,
          1221037,
          100210,
          619745,
          505992,
          65610,
          1886068,
          163820,
          450295,
          41284,
          185180,
          36193,
          143100,
          945087,
          513120,
          null,
          56785,
          747,
          5130,
          163610,
          783562,
          488100,
          948,
          26,
          241550,
          603500,
          83600,
          242900,
          9372610,
          181034,
          447400,
          12189,
          916445,
          331212,
          null,
          527968,
          752612,
          390757
         ],
         "z": [
          141383623,
          258985941.8,
          3745970756,
          12443298.4,
          530796032.4,
          2654958.7,
          153888,
          18922634.1,
          7446420404.7,
          352528497.5,
          70975377.9,
          16397738878.9,
          5141797391.4,
          2299605147.1,
          156468022,
          746510322.7,
          1116685617.2,
          48107334.4,
          4576984204.1,
          12008853169.6,
          15813710.1,
          76479027,
          25755904.8,
          11484250.6,
          408828099.1,
          834732128.2,
          114290248.8,
          13507299568.7,
          310178563.6,
          3590232097,
          43814591.2,
          10050090,
          93342745.7,
          175102484.4,
          30461195670.9,
          10237609.5,
          9489186.2,
          20896397.7,
          2447152339.2,
          179600000000,
          1330032,
          2913119593.7,
          3962422.2,
          60044720.3,
          1783872,
          210794071,
          277088958,
          980055144.9,
          1478255087.1,
          533591250.3,
          253891252.1,
          11354986210.3,
          178097519.2,
          3896833556.7,
          16672313.5,
          3919361.2,
          609792024.7,
          991522676.7,
          5076292073.6,
          196712225.8,
          119422176.4,
          13968785.1,
          1543668133.5,
          35176393.8,
          180528717.6,
          26924495.6,
          42202782.4,
          2944676512.9,
          36964637214,
          23574448.3,
          24408373.2,
          231937715.5,
          11114480,
          605451188.2,
          88509205419.9,
          285000226.2,
          3688398396.5,
          30078197.6,
          6672761.5,
          70046223.8,
          348387684.8,
          69164394.2,
          8490116,
          88174278.1,
          59774662,
          203046928.7,
          1395879474.4,
          4747730657,
          132899386.1,
          41208010378.3,
          11205955898.8,
          15130258021.9,
          3569067641.7,
          2017567936.2,
          2044423791.5,
          22833847339.5,
          409365795.2,
          59230891010.5,
          562769217.9,
          12302895411.5,
          377055424.8,
          1742068.5,
          60228672.6,
          2368998436.7,
          803825972,
          67393556.5,
          909959312.8,
          591141940.7,
          50861630.3,
          46359631.8,
          1838179518.7,
          5267519.6,
          1482841851.8,
          702152973.3,
          48406210.2,
          76642490.5,
          43224409.9,
          4653706776.2,
          16356688.4,
          44797177.3,
          94935849.7,
          2612516.6,
          75649400.8,
          58221313.4,
          92251042.9,
          4874705.2,
          17622102727.1,
          2930174.1,
          1351276665.3,
          496289013.1,
          91038777.8,
          1429256.2,
          1397610377.9,
          139439230.7,
          458690022,
          54728283.6,
          4562215.5,
          98768915.8,
          10879295571.4,
          122366189.2,
          1691518863.3,
          148517777.8,
          36134166.2,
          3240051803.3,
          237827.4,
          4902926452.1,
          595214140.8,
          2391435509,
          912730258.6,
          3999534114.1,
          9371700.3,
          43227478.8,
          248757199.7,
          134601519,
          137589036.9,
          1661781707.3,
          2690663207.9,
          26099760794.4,
          2346249477.8,
          208848,
          1543197943,
          99203776.9,
          8077611619.5,
          106392044227.7,
          23078733.2,
          318375.3,
          5059762.6,
          11697932.6,
          3342893.2,
          5703536.2,
          5501496.1,
          2687346.3,
          12516372282.7,
          187090140.5,
          2488866386.7,
          10534584.5,
          30989080.3,
          1899962129.8,
          63802266.1,
          3681517868.3,
          773926794.1,
          8767743.5,
          29451117.1,
          18614936970.6,
          14826172367,
          30413532.2,
          13455636544,
          385852263.3,
          337834235.5,
          101558877.1,
          4756050561.3,
          2817118146.1,
          1693405768.1,
          7519534461.5,
          449555571,
          183283838.8,
          5849299055.1,
          3702207.2,
          54363375.6,
          3640612.4,
          1344887137.8,
          743352036.2,
          8669975637.7,
          2041757202,
          2750369.7,
          235984.1,
          78386879.1,
          29267056719.6,
          3725808866.5,
          76008796833.3,
          388100000000,
          335212643.2,
          5703313725.7,
          3886213.2,
          7088910081.8,
          2804876117.1,
          369043.7,
          555403659.2,
          214269540.2,
          719387735.9
         ]
        }
       ],
       "layout": {
        "height": 700,
        "scene": {
         "xaxis": {
          "title": {
           "text": "CO2 uitstoot"
          }
         },
         "yaxis": {
          "title": {
           "text": "Oppervlakte"
          }
         },
         "zaxis": {
          "title": {
           "text": "Bevolkingsomvang"
          }
         }
        },
        "template": {
         "data": {
          "bar": [
           {
            "error_x": {
             "color": "#2a3f5f"
            },
            "error_y": {
             "color": "#2a3f5f"
            },
            "marker": {
             "line": {
              "color": "#E5ECF6",
              "width": 0.5
             },
             "pattern": {
              "fillmode": "overlay",
              "size": 10,
              "solidity": 0.2
             }
            },
            "type": "bar"
           }
          ],
          "barpolar": [
           {
            "marker": {
             "line": {
              "color": "#E5ECF6",
              "width": 0.5
             },
             "pattern": {
              "fillmode": "overlay",
              "size": 10,
              "solidity": 0.2
             }
            },
            "type": "barpolar"
           }
          ],
          "carpet": [
           {
            "aaxis": {
             "endlinecolor": "#2a3f5f",
             "gridcolor": "white",
             "linecolor": "white",
             "minorgridcolor": "white",
             "startlinecolor": "#2a3f5f"
            },
            "baxis": {
             "endlinecolor": "#2a3f5f",
             "gridcolor": "white",
             "linecolor": "white",
             "minorgridcolor": "white",
             "startlinecolor": "#2a3f5f"
            },
            "type": "carpet"
           }
          ],
          "choropleth": [
           {
            "colorbar": {
             "outlinewidth": 0,
             "ticks": ""
            },
            "type": "choropleth"
           }
          ],
          "contour": [
           {
            "colorbar": {
             "outlinewidth": 0,
             "ticks": ""
            },
            "colorscale": [
             [
              0,
              "#0d0887"
             ],
             [
              0.1111111111111111,
              "#46039f"
             ],
             [
              0.2222222222222222,
              "#7201a8"
             ],
             [
              0.3333333333333333,
              "#9c179e"
             ],
             [
              0.4444444444444444,
              "#bd3786"
             ],
             [
              0.5555555555555556,
              "#d8576b"
             ],
             [
              0.6666666666666666,
              "#ed7953"
             ],
             [
              0.7777777777777778,
              "#fb9f3a"
             ],
             [
              0.8888888888888888,
              "#fdca26"
             ],
             [
              1,
              "#f0f921"
             ]
            ],
            "type": "contour"
           }
          ],
          "contourcarpet": [
           {
            "colorbar": {
             "outlinewidth": 0,
             "ticks": ""
            },
            "type": "contourcarpet"
           }
          ],
          "heatmap": [
           {
            "colorbar": {
             "outlinewidth": 0,
             "ticks": ""
            },
            "colorscale": [
             [
              0,
              "#0d0887"
             ],
             [
              0.1111111111111111,
              "#46039f"
             ],
             [
              0.2222222222222222,
              "#7201a8"
             ],
             [
              0.3333333333333333,
              "#9c179e"
             ],
             [
              0.4444444444444444,
              "#bd3786"
             ],
             [
              0.5555555555555556,
              "#d8576b"
             ],
             [
              0.6666666666666666,
              "#ed7953"
             ],
             [
              0.7777777777777778,
              "#fb9f3a"
             ],
             [
              0.8888888888888888,
              "#fdca26"
             ],
             [
              1,
              "#f0f921"
             ]
            ],
            "type": "heatmap"
           }
          ],
          "heatmapgl": [
           {
            "colorbar": {
             "outlinewidth": 0,
             "ticks": ""
            },
            "colorscale": [
             [
              0,
              "#0d0887"
             ],
             [
              0.1111111111111111,
              "#46039f"
             ],
             [
              0.2222222222222222,
              "#7201a8"
             ],
             [
              0.3333333333333333,
              "#9c179e"
             ],
             [
              0.4444444444444444,
              "#bd3786"
             ],
             [
              0.5555555555555556,
              "#d8576b"
             ],
             [
              0.6666666666666666,
              "#ed7953"
             ],
             [
              0.7777777777777778,
              "#fb9f3a"
             ],
             [
              0.8888888888888888,
              "#fdca26"
             ],
             [
              1,
              "#f0f921"
             ]
            ],
            "type": "heatmapgl"
           }
          ],
          "histogram": [
           {
            "marker": {
             "pattern": {
              "fillmode": "overlay",
              "size": 10,
              "solidity": 0.2
             }
            },
            "type": "histogram"
           }
          ],
          "histogram2d": [
           {
            "colorbar": {
             "outlinewidth": 0,
             "ticks": ""
            },
            "colorscale": [
             [
              0,
              "#0d0887"
             ],
             [
              0.1111111111111111,
              "#46039f"
             ],
             [
              0.2222222222222222,
              "#7201a8"
             ],
             [
              0.3333333333333333,
              "#9c179e"
             ],
             [
              0.4444444444444444,
              "#bd3786"
             ],
             [
              0.5555555555555556,
              "#d8576b"
             ],
             [
              0.6666666666666666,
              "#ed7953"
             ],
             [
              0.7777777777777778,
              "#fb9f3a"
             ],
             [
              0.8888888888888888,
              "#fdca26"
             ],
             [
              1,
              "#f0f921"
             ]
            ],
            "type": "histogram2d"
           }
          ],
          "histogram2dcontour": [
           {
            "colorbar": {
             "outlinewidth": 0,
             "ticks": ""
            },
            "colorscale": [
             [
              0,
              "#0d0887"
             ],
             [
              0.1111111111111111,
              "#46039f"
             ],
             [
              0.2222222222222222,
              "#7201a8"
             ],
             [
              0.3333333333333333,
              "#9c179e"
             ],
             [
              0.4444444444444444,
              "#bd3786"
             ],
             [
              0.5555555555555556,
              "#d8576b"
             ],
             [
              0.6666666666666666,
              "#ed7953"
             ],
             [
              0.7777777777777778,
              "#fb9f3a"
             ],
             [
              0.8888888888888888,
              "#fdca26"
             ],
             [
              1,
              "#f0f921"
             ]
            ],
            "type": "histogram2dcontour"
           }
          ],
          "mesh3d": [
           {
            "colorbar": {
             "outlinewidth": 0,
             "ticks": ""
            },
            "type": "mesh3d"
           }
          ],
          "parcoords": [
           {
            "line": {
             "colorbar": {
              "outlinewidth": 0,
              "ticks": ""
             }
            },
            "type": "parcoords"
           }
          ],
          "pie": [
           {
            "automargin": true,
            "type": "pie"
           }
          ],
          "scatter": [
           {
            "fillpattern": {
             "fillmode": "overlay",
             "size": 10,
             "solidity": 0.2
            },
            "type": "scatter"
           }
          ],
          "scatter3d": [
           {
            "line": {
             "colorbar": {
              "outlinewidth": 0,
              "ticks": ""
             }
            },
            "marker": {
             "colorbar": {
              "outlinewidth": 0,
              "ticks": ""
             }
            },
            "type": "scatter3d"
           }
          ],
          "scattercarpet": [
           {
            "marker": {
             "colorbar": {
              "outlinewidth": 0,
              "ticks": ""
             }
            },
            "type": "scattercarpet"
           }
          ],
          "scattergeo": [
           {
            "marker": {
             "colorbar": {
              "outlinewidth": 0,
              "ticks": ""
             }
            },
            "type": "scattergeo"
           }
          ],
          "scattergl": [
           {
            "marker": {
             "colorbar": {
              "outlinewidth": 0,
              "ticks": ""
             }
            },
            "type": "scattergl"
           }
          ],
          "scattermapbox": [
           {
            "marker": {
             "colorbar": {
              "outlinewidth": 0,
              "ticks": ""
             }
            },
            "type": "scattermapbox"
           }
          ],
          "scatterpolar": [
           {
            "marker": {
             "colorbar": {
              "outlinewidth": 0,
              "ticks": ""
             }
            },
            "type": "scatterpolar"
           }
          ],
          "scatterpolargl": [
           {
            "marker": {
             "colorbar": {
              "outlinewidth": 0,
              "ticks": ""
             }
            },
            "type": "scatterpolargl"
           }
          ],
          "scatterternary": [
           {
            "marker": {
             "colorbar": {
              "outlinewidth": 0,
              "ticks": ""
             }
            },
            "type": "scatterternary"
           }
          ],
          "surface": [
           {
            "colorbar": {
             "outlinewidth": 0,
             "ticks": ""
            },
            "colorscale": [
             [
              0,
              "#0d0887"
             ],
             [
              0.1111111111111111,
              "#46039f"
             ],
             [
              0.2222222222222222,
              "#7201a8"
             ],
             [
              0.3333333333333333,
              "#9c179e"
             ],
             [
              0.4444444444444444,
              "#bd3786"
             ],
             [
              0.5555555555555556,
              "#d8576b"
             ],
             [
              0.6666666666666666,
              "#ed7953"
             ],
             [
              0.7777777777777778,
              "#fb9f3a"
             ],
             [
              0.8888888888888888,
              "#fdca26"
             ],
             [
              1,
              "#f0f921"
             ]
            ],
            "type": "surface"
           }
          ],
          "table": [
           {
            "cells": {
             "fill": {
              "color": "#EBF0F8"
             },
             "line": {
              "color": "white"
             }
            },
            "header": {
             "fill": {
              "color": "#C8D4E3"
             },
             "line": {
              "color": "white"
             }
            },
            "type": "table"
           }
          ]
         },
         "layout": {
          "annotationdefaults": {
           "arrowcolor": "#2a3f5f",
           "arrowhead": 0,
           "arrowwidth": 1
          },
          "autotypenumbers": "strict",
          "coloraxis": {
           "colorbar": {
            "outlinewidth": 0,
            "ticks": ""
           }
          },
          "colorscale": {
           "diverging": [
            [
             0,
             "#8e0152"
            ],
            [
             0.1,
             "#c51b7d"
            ],
            [
             0.2,
             "#de77ae"
            ],
            [
             0.3,
             "#f1b6da"
            ],
            [
             0.4,
             "#fde0ef"
            ],
            [
             0.5,
             "#f7f7f7"
            ],
            [
             0.6,
             "#e6f5d0"
            ],
            [
             0.7,
             "#b8e186"
            ],
            [
             0.8,
             "#7fbc41"
            ],
            [
             0.9,
             "#4d9221"
            ],
            [
             1,
             "#276419"
            ]
           ],
           "sequential": [
            [
             0,
             "#0d0887"
            ],
            [
             0.1111111111111111,
             "#46039f"
            ],
            [
             0.2222222222222222,
             "#7201a8"
            ],
            [
             0.3333333333333333,
             "#9c179e"
            ],
            [
             0.4444444444444444,
             "#bd3786"
            ],
            [
             0.5555555555555556,
             "#d8576b"
            ],
            [
             0.6666666666666666,
             "#ed7953"
            ],
            [
             0.7777777777777778,
             "#fb9f3a"
            ],
            [
             0.8888888888888888,
             "#fdca26"
            ],
            [
             1,
             "#f0f921"
            ]
           ],
           "sequentialminus": [
            [
             0,
             "#0d0887"
            ],
            [
             0.1111111111111111,
             "#46039f"
            ],
            [
             0.2222222222222222,
             "#7201a8"
            ],
            [
             0.3333333333333333,
             "#9c179e"
            ],
            [
             0.4444444444444444,
             "#bd3786"
            ],
            [
             0.5555555555555556,
             "#d8576b"
            ],
            [
             0.6666666666666666,
             "#ed7953"
            ],
            [
             0.7777777777777778,
             "#fb9f3a"
            ],
            [
             0.8888888888888888,
             "#fdca26"
            ],
            [
             1,
             "#f0f921"
            ]
           ]
          },
          "colorway": [
           "#636efa",
           "#EF553B",
           "#00cc96",
           "#ab63fa",
           "#FFA15A",
           "#19d3f3",
           "#FF6692",
           "#B6E880",
           "#FF97FF",
           "#FECB52"
          ],
          "font": {
           "color": "#2a3f5f"
          },
          "geo": {
           "bgcolor": "white",
           "lakecolor": "white",
           "landcolor": "#E5ECF6",
           "showlakes": true,
           "showland": true,
           "subunitcolor": "white"
          },
          "hoverlabel": {
           "align": "left"
          },
          "hovermode": "closest",
          "mapbox": {
           "style": "light"
          },
          "paper_bgcolor": "white",
          "plot_bgcolor": "#E5ECF6",
          "polar": {
           "angularaxis": {
            "gridcolor": "white",
            "linecolor": "white",
            "ticks": ""
           },
           "bgcolor": "#E5ECF6",
           "radialaxis": {
            "gridcolor": "white",
            "linecolor": "white",
            "ticks": ""
           }
          },
          "scene": {
           "xaxis": {
            "backgroundcolor": "#E5ECF6",
            "gridcolor": "white",
            "gridwidth": 2,
            "linecolor": "white",
            "showbackground": true,
            "ticks": "",
            "zerolinecolor": "white"
           },
           "yaxis": {
            "backgroundcolor": "#E5ECF6",
            "gridcolor": "white",
            "gridwidth": 2,
            "linecolor": "white",
            "showbackground": true,
            "ticks": "",
            "zerolinecolor": "white"
           },
           "zaxis": {
            "backgroundcolor": "#E5ECF6",
            "gridcolor": "white",
            "gridwidth": 2,
            "linecolor": "white",
            "showbackground": true,
            "ticks": "",
            "zerolinecolor": "white"
           }
          },
          "shapedefaults": {
           "line": {
            "color": "#2a3f5f"
           }
          },
          "ternary": {
           "aaxis": {
            "gridcolor": "white",
            "linecolor": "white",
            "ticks": ""
           },
           "baxis": {
            "gridcolor": "white",
            "linecolor": "white",
            "ticks": ""
           },
           "bgcolor": "#E5ECF6",
           "caxis": {
            "gridcolor": "white",
            "linecolor": "white",
            "ticks": ""
           }
          },
          "title": {
           "x": 0.05
          },
          "xaxis": {
           "automargin": true,
           "gridcolor": "white",
           "linecolor": "white",
           "ticks": "",
           "title": {
            "standoff": 15
           },
           "zerolinecolor": "white",
           "zerolinewidth": 2
          },
          "yaxis": {
           "automargin": true,
           "gridcolor": "white",
           "linecolor": "white",
           "ticks": "",
           "title": {
            "standoff": 15
           },
           "zerolinecolor": "white",
           "zerolinewidth": 2
          }
         }
        },
        "title": {
         "text": "3D spreidingsplot van de correlatie tussen CO2 uitstoot, bevolkingsomvang en totale oppervlakte per land"
        },
        "width": 1000
       }
      },
      "text/html": [
       "<div>                            <div id=\"3f7d52fe-e09a-4dd9-88dc-2da2e6278e7e\" class=\"plotly-graph-div\" style=\"height:700px; width:1000px;\"></div>            <script type=\"text/javascript\">                require([\"plotly\"], function(Plotly) {                    window.PLOTLYENV=window.PLOTLYENV || {};                                    if (document.getElementById(\"3f7d52fe-e09a-4dd9-88dc-2da2e6278e7e\")) {                    Plotly.newPlot(                        \"3f7d52fe-e09a-4dd9-88dc-2da2e6278e7e\",                        [{\"marker\":{\"color\":[141383623.0,258985941.8,3745970756.0,12443298.4,530796032.4,2654958.7,153888.0,18922634.1,7446420404.7,352528497.5,70975377.9,16397738878.9,5141797391.4,2299605147.1,156468022.0,746510322.7,1116685617.2,48107334.4,4576984204.1,12008853169.6,15813710.1,76479027.0,25755904.8,11484250.6,408828099.1,834732128.2,114290248.8,13507299568.7,310178563.6,3590232097.0,43814591.2,10050090.0,93342745.7,175102484.4,30461195670.9,10237609.5,9489186.2,20896397.7,2447152339.2,179600000000.0,1330032.0,2913119593.7,3962422.2,60044720.3,1783872.0,210794071.0,277088958.0,980055144.9,1478255087.1,533591250.3,253891252.1,11354986210.3,178097519.2,3896833556.7,16672313.5,3919361.2,609792024.7,991522676.7,5076292073.6,196712225.8,119422176.4,13968785.1,1543668133.5,35176393.8,180528717.6,26924495.6,42202782.4,2944676512.9,36964637214.0,23574448.3,24408373.2,231937715.5,11114480.0,605451188.2,88509205419.9,285000226.2,3688398396.5,30078197.6,6672761.5,70046223.8,348387684.8,69164394.2,8490116.0,88174278.1,59774662.0,203046928.7,1395879474.4,4747730657.0,132899386.1,41208010378.3,11205955898.8,15130258021.9,3569067641.7,2017567936.2,2044423791.5,22833847339.5,409365795.2,59230891010.5,562769217.9,12302895411.5,377055424.8,1742068.5,60228672.6,2368998436.7,803825972.0,67393556.5,909959312.8,591141940.7,50861630.3,46359631.8,1838179518.7,5267519.6,1482841851.8,702152973.3,48406210.2,76642490.5,43224409.9,4653706776.2,16356688.4,44797177.3,94935849.7,2612516.6,75649400.8,58221313.4,92251042.9,4874705.2,17622102727.1,2930174.1,1351276665.3,496289013.1,91038777.8,1429256.2,1397610377.9,139439230.7,458690022.0,54728283.6,4562215.5,98768915.8,10879295571.4,122366189.2,1691518863.3,148517777.8,36134166.2,3240051803.3,237827.4,4902926452.1,595214140.8,2391435509.0,912730258.6,3999534114.1,9371700.3,43227478.8,248757199.7,134601519.0,137589036.9,1661781707.3,2690663207.9,26099760794.4,2346249477.8,208848.0,1543197943.0,99203776.9,8077611619.5,106392044227.7,23078733.2,318375.3,5059762.6,11697932.6,3342893.2,5703536.2,5501496.1,2687346.3,12516372282.7,187090140.5,2488866386.7,10534584.5,30989080.3,1899962129.8,63802266.1,3681517868.3,773926794.1,8767743.5,29451117.1,18614936970.6,14826172367.0,30413532.2,13455636544.0,385852263.3,337834235.5,101558877.1,4756050561.3,2817118146.1,1693405768.1,7519534461.5,449555571.0,183283838.8,5849299055.1,3702207.2,54363375.6,3640612.4,1344887137.8,743352036.2,8669975637.7,2041757202.0,2750369.7,235984.1,78386879.1,29267056719.6,3725808866.5,76008796833.3,388100000000.0,335212643.2,5703313725.7,3886213.2,7088910081.8,2804876117.1,369043.7,555403659.2,214269540.2,719387735.9],\"colorscale\":[[0.0,\"#440154\"],[0.1111111111111111,\"#482878\"],[0.2222222222222222,\"#3e4989\"],[0.3333333333333333,\"#31688e\"],[0.4444444444444444,\"#26828e\"],[0.5555555555555556,\"#1f9e89\"],[0.6666666666666666,\"#35b779\"],[0.7777777777777778,\"#6ece58\"],[0.8888888888888888,\"#b5de2b\"],[1.0,\"#fde725\"]],\"opacity\":0.8,\"size\":8},\"mode\":\"markers\",\"x\":[41128771.0,2842321.0,44903225.0,79824.0,35588987.0,null,null,93763.0,45510318.0,2780469.0,null,26177413.0,8939617.0,10358074.0,409984.0,1472233.0,171186372.0,281635.0,9534954.0,11655930.0,405272.0,13352864.0,null,782455.0,12224110.0,3233526.0,2630296.0,215313498.0,449002.0,6781953.0,22673762.0,12889576.0,16767842.0,27914536.0,38454327.0,593149.0,5579144.0,17723315.0,19603733.0,1425887337.0,null,51874024.0,836774.0,null,null,5180829.0,null,4030358.0,11212191.0,null,1251488.0,null,null,5882261.0,1120849.0,72737.0,11228821.0,18001000.0,110990103.0,6336392.0,1674908.0,3684032.0,1326062.0,1201670.0,123379924.0,null,929766.0,5540745.0,64626628.0,304557.0,null,2388992.0,2705992.0,3744385.0,83369843.0,33475870.0,10384971.0,56466.0,125438.0,395752.0,17843908.0,13859341.0,null,808726.0,11584996.0,10432860.0,7488865.0,9967308.0,372899.0,1417173173.0,275501339.0,88550570.0,44496122.0,5023109.0,9038309.0,59037474.0,2827377.0,123951692.0,11285869.0,19397998.0,54027487.0,131232.0,1802250.0,4268873.0,6630623.0,7529475.0,1850651.0,5489739.0,2305825.0,5302681.0,6812341.0,39327.0,2750055.0,647599.0,null,29611714.0,20405317.0,33938221.0,523787.0,22593590.0,533286.0,41569.0,367507.0,4736139.0,1299469.0,326101.0,127504125.0,114164.0,3272996.0,3398366.0,627082.0,null,37457971.0,32969518.0,54179306.0,2567012.0,12668.0,30547580.0,17564014.0,null,5185288.0,6948392.0,26207977.0,218541212.0,null,26069416.0,2093599.0,5434319.0,4576298.0,235824862.0,18055.0,5250072.0,4408581.0,10142619.0,6780744.0,34049588.0,115559009.0,39857145.0,10270865.0,3252407.0,2695122.0,974052.0,19659267.0,144713314.0,13776698.0,null,47657.0,179857.0,null,103948.0,222382.0,227380.0,36408820.0,17316449.0,7221365.0,107118.0,8605718.0,5975689.0,null,5643453.0,2119844.0,724273.0,17597511.0,59893885.0,51815810.0,10913164.0,47558630.0,21832143.0,46874204.0,618040.0,10549347.0,8740472.0,22125249.0,23893394.0,9952787.0,65497748.0,71697030.0,null,8848699.0,106858.0,1531044.0,12356117.0,85341241.0,6430770.0,null,11312.0,47249585.0,39701739.0,9441129.0,67508936.0,338289857.0,3422794.0,34627652.0,326740.0,28301696.0,98186856.0,null,33696614.0,20017675.0,16320537.0],\"y\":[652230.0,28748.0,2381741.0,468.0,1246700.0,91.0,null,442.0,2780400.0,29743.0,180.0,7692024.0,83871.0,86600.0,13943.0,765.0,147570.0,430.0,207600.0,30528.0,22966.0,112622.0,54.0,38394.0,1098581.0,51209.0,582000.0,8515767.0,null,110879.0,272967.0,27834.0,181035.0,475442.0,9984670.0,null,622984.0,1284000.0,756102.0,9706961.0,null,1141748.0,1862.0,342000.0,236.0,51100.0,null,56594.0,109884.0,null,9251.0,78865.0,null,43094.0,23200.0,751.0,48671.0,276841.0,1002450.0,21041.0,28051.0,117600.0,45227.0,17364.0,1104300.0,1393.0,18272.0,338424.0,551695.0,83534.0,4167.0,267668.0,10689.0,69700.0,357114.0,238533.0,131990.0,2166086.0,344.0,1628.0,108889.0,245857.0,36125.0,214969.0,27750.0,112492.0,null,93028.0,103000.0,3287590.0,1904569.0,1648195.0,438317.0,70273.0,20770.0,301336.0,10991.0,377930.0,89342.0,2724900.0,580367.0,811.0,null,17818.0,199951.0,236800.0,64559.0,10452.0,30355.0,111369.0,1759540.0,160.0,65300.0,2586.0,null,587041.0,118484.0,330803.0,300.0,1240192.0,316.0,181.0,1128.0,1030700.0,2040.0,374.0,1964375.0,702.0,33846.0,1564110.0,13812.0,102.0,446550.0,801590.0,676578.0,825615.0,21.0,147181.0,41850.0,18575.0,270467.0,130373.0,1267000.0,923768.0,260.0,120538.0,null,323802.0,309500.0,881912.0,459.0,null,75417.0,462840.0,406752.0,1285216.0,342353.0,312679.0,92090.0,8870.0,11586.0,null,238391.0,17098242.0,26338.0,394.0,261.0,616.0,242.0,389.0,2842.0,964.0,2149690.0,196722.0,88361.0,452.0,71740.0,710.0,null,49037.0,20273.0,28896.0,637657.0,1221037.0,100210.0,619745.0,505992.0,65610.0,1886068.0,163820.0,450295.0,41284.0,185180.0,36193.0,143100.0,945087.0,513120.0,null,56785.0,747.0,5130.0,163610.0,783562.0,488100.0,948.0,26.0,241550.0,603500.0,83600.0,242900.0,9372610.0,181034.0,447400.0,12189.0,916445.0,331212.0,null,527968.0,752612.0,390757.0],\"z\":[141383623.0,258985941.8,3745970756.0,12443298.4,530796032.4,2654958.7,153888.0,18922634.1,7446420404.7,352528497.5,70975377.9,16397738878.9,5141797391.4,2299605147.1,156468022.0,746510322.7,1116685617.2,48107334.4,4576984204.1,12008853169.6,15813710.1,76479027.0,25755904.8,11484250.6,408828099.1,834732128.2,114290248.8,13507299568.7,310178563.6,3590232097.0,43814591.2,10050090.0,93342745.7,175102484.4,30461195670.9,10237609.5,9489186.2,20896397.7,2447152339.2,179600000000.0,1330032.0,2913119593.7,3962422.2,60044720.3,1783872.0,210794071.0,277088958.0,980055144.9,1478255087.1,533591250.3,253891252.1,11354986210.3,178097519.2,3896833556.7,16672313.5,3919361.2,609792024.7,991522676.7,5076292073.6,196712225.8,119422176.4,13968785.1,1543668133.5,35176393.8,180528717.6,26924495.6,42202782.4,2944676512.9,36964637214.0,23574448.3,24408373.2,231937715.5,11114480.0,605451188.2,88509205419.9,285000226.2,3688398396.5,30078197.6,6672761.5,70046223.8,348387684.8,69164394.2,8490116.0,88174278.1,59774662.0,203046928.7,1395879474.4,4747730657.0,132899386.1,41208010378.3,11205955898.8,15130258021.9,3569067641.7,2017567936.2,2044423791.5,22833847339.5,409365795.2,59230891010.5,562769217.9,12302895411.5,377055424.8,1742068.5,60228672.6,2368998436.7,803825972.0,67393556.5,909959312.8,591141940.7,50861630.3,46359631.8,1838179518.7,5267519.6,1482841851.8,702152973.3,48406210.2,76642490.5,43224409.9,4653706776.2,16356688.4,44797177.3,94935849.7,2612516.6,75649400.8,58221313.4,92251042.9,4874705.2,17622102727.1,2930174.1,1351276665.3,496289013.1,91038777.8,1429256.2,1397610377.9,139439230.7,458690022.0,54728283.6,4562215.5,98768915.8,10879295571.4,122366189.2,1691518863.3,148517777.8,36134166.2,3240051803.3,237827.4,4902926452.1,595214140.8,2391435509.0,912730258.6,3999534114.1,9371700.3,43227478.8,248757199.7,134601519.0,137589036.9,1661781707.3,2690663207.9,26099760794.4,2346249477.8,208848.0,1543197943.0,99203776.9,8077611619.5,106392044227.7,23078733.2,318375.3,5059762.6,11697932.6,3342893.2,5703536.2,5501496.1,2687346.3,12516372282.7,187090140.5,2488866386.7,10534584.5,30989080.3,1899962129.8,63802266.1,3681517868.3,773926794.1,8767743.5,29451117.1,18614936970.6,14826172367.0,30413532.2,13455636544.0,385852263.3,337834235.5,101558877.1,4756050561.3,2817118146.1,1693405768.1,7519534461.5,449555571.0,183283838.8,5849299055.1,3702207.2,54363375.6,3640612.4,1344887137.8,743352036.2,8669975637.7,2041757202.0,2750369.7,235984.1,78386879.1,29267056719.6,3725808866.5,76008796833.3,388100000000.0,335212643.2,5703313725.7,3886213.2,7088910081.8,2804876117.1,369043.7,555403659.2,214269540.2,719387735.9],\"type\":\"scatter3d\"}],                        {\"template\":{\"data\":{\"histogram2dcontour\":[{\"type\":\"histogram2dcontour\",\"colorbar\":{\"outlinewidth\":0,\"ticks\":\"\"},\"colorscale\":[[0.0,\"#0d0887\"],[0.1111111111111111,\"#46039f\"],[0.2222222222222222,\"#7201a8\"],[0.3333333333333333,\"#9c179e\"],[0.4444444444444444,\"#bd3786\"],[0.5555555555555556,\"#d8576b\"],[0.6666666666666666,\"#ed7953\"],[0.7777777777777778,\"#fb9f3a\"],[0.8888888888888888,\"#fdca26\"],[1.0,\"#f0f921\"]]}],\"choropleth\":[{\"type\":\"choropleth\",\"colorbar\":{\"outlinewidth\":0,\"ticks\":\"\"}}],\"histogram2d\":[{\"type\":\"histogram2d\",\"colorbar\":{\"outlinewidth\":0,\"ticks\":\"\"},\"colorscale\":[[0.0,\"#0d0887\"],[0.1111111111111111,\"#46039f\"],[0.2222222222222222,\"#7201a8\"],[0.3333333333333333,\"#9c179e\"],[0.4444444444444444,\"#bd3786\"],[0.5555555555555556,\"#d8576b\"],[0.6666666666666666,\"#ed7953\"],[0.7777777777777778,\"#fb9f3a\"],[0.8888888888888888,\"#fdca26\"],[1.0,\"#f0f921\"]]}],\"heatmap\":[{\"type\":\"heatmap\",\"colorbar\":{\"outlinewidth\":0,\"ticks\":\"\"},\"colorscale\":[[0.0,\"#0d0887\"],[0.1111111111111111,\"#46039f\"],[0.2222222222222222,\"#7201a8\"],[0.3333333333333333,\"#9c179e\"],[0.4444444444444444,\"#bd3786\"],[0.5555555555555556,\"#d8576b\"],[0.6666666666666666,\"#ed7953\"],[0.7777777777777778,\"#fb9f3a\"],[0.8888888888888888,\"#fdca26\"],[1.0,\"#f0f921\"]]}],\"heatmapgl\":[{\"type\":\"heatmapgl\",\"colorbar\":{\"outlinewidth\":0,\"ticks\":\"\"},\"colorscale\":[[0.0,\"#0d0887\"],[0.1111111111111111,\"#46039f\"],[0.2222222222222222,\"#7201a8\"],[0.3333333333333333,\"#9c179e\"],[0.4444444444444444,\"#bd3786\"],[0.5555555555555556,\"#d8576b\"],[0.6666666666666666,\"#ed7953\"],[0.7777777777777778,\"#fb9f3a\"],[0.8888888888888888,\"#fdca26\"],[1.0,\"#f0f921\"]]}],\"contourcarpet\":[{\"type\":\"contourcarpet\",\"colorbar\":{\"outlinewidth\":0,\"ticks\":\"\"}}],\"contour\":[{\"type\":\"contour\",\"colorbar\":{\"outlinewidth\":0,\"ticks\":\"\"},\"colorscale\":[[0.0,\"#0d0887\"],[0.1111111111111111,\"#46039f\"],[0.2222222222222222,\"#7201a8\"],[0.3333333333333333,\"#9c179e\"],[0.4444444444444444,\"#bd3786\"],[0.5555555555555556,\"#d8576b\"],[0.6666666666666666,\"#ed7953\"],[0.7777777777777778,\"#fb9f3a\"],[0.8888888888888888,\"#fdca26\"],[1.0,\"#f0f921\"]]}],\"surface\":[{\"type\":\"surface\",\"colorbar\":{\"outlinewidth\":0,\"ticks\":\"\"},\"colorscale\":[[0.0,\"#0d0887\"],[0.1111111111111111,\"#46039f\"],[0.2222222222222222,\"#7201a8\"],[0.3333333333333333,\"#9c179e\"],[0.4444444444444444,\"#bd3786\"],[0.5555555555555556,\"#d8576b\"],[0.6666666666666666,\"#ed7953\"],[0.7777777777777778,\"#fb9f3a\"],[0.8888888888888888,\"#fdca26\"],[1.0,\"#f0f921\"]]}],\"mesh3d\":[{\"type\":\"mesh3d\",\"colorbar\":{\"outlinewidth\":0,\"ticks\":\"\"}}],\"scatter\":[{\"fillpattern\":{\"fillmode\":\"overlay\",\"size\":10,\"solidity\":0.2},\"type\":\"scatter\"}],\"parcoords\":[{\"type\":\"parcoords\",\"line\":{\"colorbar\":{\"outlinewidth\":0,\"ticks\":\"\"}}}],\"scatterpolargl\":[{\"type\":\"scatterpolargl\",\"marker\":{\"colorbar\":{\"outlinewidth\":0,\"ticks\":\"\"}}}],\"bar\":[{\"error_x\":{\"color\":\"#2a3f5f\"},\"error_y\":{\"color\":\"#2a3f5f\"},\"marker\":{\"line\":{\"color\":\"#E5ECF6\",\"width\":0.5},\"pattern\":{\"fillmode\":\"overlay\",\"size\":10,\"solidity\":0.2}},\"type\":\"bar\"}],\"scattergeo\":[{\"type\":\"scattergeo\",\"marker\":{\"colorbar\":{\"outlinewidth\":0,\"ticks\":\"\"}}}],\"scatterpolar\":[{\"type\":\"scatterpolar\",\"marker\":{\"colorbar\":{\"outlinewidth\":0,\"ticks\":\"\"}}}],\"histogram\":[{\"marker\":{\"pattern\":{\"fillmode\":\"overlay\",\"size\":10,\"solidity\":0.2}},\"type\":\"histogram\"}],\"scattergl\":[{\"type\":\"scattergl\",\"marker\":{\"colorbar\":{\"outlinewidth\":0,\"ticks\":\"\"}}}],\"scatter3d\":[{\"type\":\"scatter3d\",\"line\":{\"colorbar\":{\"outlinewidth\":0,\"ticks\":\"\"}},\"marker\":{\"colorbar\":{\"outlinewidth\":0,\"ticks\":\"\"}}}],\"scattermapbox\":[{\"type\":\"scattermapbox\",\"marker\":{\"colorbar\":{\"outlinewidth\":0,\"ticks\":\"\"}}}],\"scatterternary\":[{\"type\":\"scatterternary\",\"marker\":{\"colorbar\":{\"outlinewidth\":0,\"ticks\":\"\"}}}],\"scattercarpet\":[{\"type\":\"scattercarpet\",\"marker\":{\"colorbar\":{\"outlinewidth\":0,\"ticks\":\"\"}}}],\"carpet\":[{\"aaxis\":{\"endlinecolor\":\"#2a3f5f\",\"gridcolor\":\"white\",\"linecolor\":\"white\",\"minorgridcolor\":\"white\",\"startlinecolor\":\"#2a3f5f\"},\"baxis\":{\"endlinecolor\":\"#2a3f5f\",\"gridcolor\":\"white\",\"linecolor\":\"white\",\"minorgridcolor\":\"white\",\"startlinecolor\":\"#2a3f5f\"},\"type\":\"carpet\"}],\"table\":[{\"cells\":{\"fill\":{\"color\":\"#EBF0F8\"},\"line\":{\"color\":\"white\"}},\"header\":{\"fill\":{\"color\":\"#C8D4E3\"},\"line\":{\"color\":\"white\"}},\"type\":\"table\"}],\"barpolar\":[{\"marker\":{\"line\":{\"color\":\"#E5ECF6\",\"width\":0.5},\"pattern\":{\"fillmode\":\"overlay\",\"size\":10,\"solidity\":0.2}},\"type\":\"barpolar\"}],\"pie\":[{\"automargin\":true,\"type\":\"pie\"}]},\"layout\":{\"autotypenumbers\":\"strict\",\"colorway\":[\"#636efa\",\"#EF553B\",\"#00cc96\",\"#ab63fa\",\"#FFA15A\",\"#19d3f3\",\"#FF6692\",\"#B6E880\",\"#FF97FF\",\"#FECB52\"],\"font\":{\"color\":\"#2a3f5f\"},\"hovermode\":\"closest\",\"hoverlabel\":{\"align\":\"left\"},\"paper_bgcolor\":\"white\",\"plot_bgcolor\":\"#E5ECF6\",\"polar\":{\"bgcolor\":\"#E5ECF6\",\"angularaxis\":{\"gridcolor\":\"white\",\"linecolor\":\"white\",\"ticks\":\"\"},\"radialaxis\":{\"gridcolor\":\"white\",\"linecolor\":\"white\",\"ticks\":\"\"}},\"ternary\":{\"bgcolor\":\"#E5ECF6\",\"aaxis\":{\"gridcolor\":\"white\",\"linecolor\":\"white\",\"ticks\":\"\"},\"baxis\":{\"gridcolor\":\"white\",\"linecolor\":\"white\",\"ticks\":\"\"},\"caxis\":{\"gridcolor\":\"white\",\"linecolor\":\"white\",\"ticks\":\"\"}},\"coloraxis\":{\"colorbar\":{\"outlinewidth\":0,\"ticks\":\"\"}},\"colorscale\":{\"sequential\":[[0.0,\"#0d0887\"],[0.1111111111111111,\"#46039f\"],[0.2222222222222222,\"#7201a8\"],[0.3333333333333333,\"#9c179e\"],[0.4444444444444444,\"#bd3786\"],[0.5555555555555556,\"#d8576b\"],[0.6666666666666666,\"#ed7953\"],[0.7777777777777778,\"#fb9f3a\"],[0.8888888888888888,\"#fdca26\"],[1.0,\"#f0f921\"]],\"sequentialminus\":[[0.0,\"#0d0887\"],[0.1111111111111111,\"#46039f\"],[0.2222222222222222,\"#7201a8\"],[0.3333333333333333,\"#9c179e\"],[0.4444444444444444,\"#bd3786\"],[0.5555555555555556,\"#d8576b\"],[0.6666666666666666,\"#ed7953\"],[0.7777777777777778,\"#fb9f3a\"],[0.8888888888888888,\"#fdca26\"],[1.0,\"#f0f921\"]],\"diverging\":[[0,\"#8e0152\"],[0.1,\"#c51b7d\"],[0.2,\"#de77ae\"],[0.3,\"#f1b6da\"],[0.4,\"#fde0ef\"],[0.5,\"#f7f7f7\"],[0.6,\"#e6f5d0\"],[0.7,\"#b8e186\"],[0.8,\"#7fbc41\"],[0.9,\"#4d9221\"],[1,\"#276419\"]]},\"xaxis\":{\"gridcolor\":\"white\",\"linecolor\":\"white\",\"ticks\":\"\",\"title\":{\"standoff\":15},\"zerolinecolor\":\"white\",\"automargin\":true,\"zerolinewidth\":2},\"yaxis\":{\"gridcolor\":\"white\",\"linecolor\":\"white\",\"ticks\":\"\",\"title\":{\"standoff\":15},\"zerolinecolor\":\"white\",\"automargin\":true,\"zerolinewidth\":2},\"scene\":{\"xaxis\":{\"backgroundcolor\":\"#E5ECF6\",\"gridcolor\":\"white\",\"linecolor\":\"white\",\"showbackground\":true,\"ticks\":\"\",\"zerolinecolor\":\"white\",\"gridwidth\":2},\"yaxis\":{\"backgroundcolor\":\"#E5ECF6\",\"gridcolor\":\"white\",\"linecolor\":\"white\",\"showbackground\":true,\"ticks\":\"\",\"zerolinecolor\":\"white\",\"gridwidth\":2},\"zaxis\":{\"backgroundcolor\":\"#E5ECF6\",\"gridcolor\":\"white\",\"linecolor\":\"white\",\"showbackground\":true,\"ticks\":\"\",\"zerolinecolor\":\"white\",\"gridwidth\":2}},\"shapedefaults\":{\"line\":{\"color\":\"#2a3f5f\"}},\"annotationdefaults\":{\"arrowcolor\":\"#2a3f5f\",\"arrowhead\":0,\"arrowwidth\":1},\"geo\":{\"bgcolor\":\"white\",\"landcolor\":\"#E5ECF6\",\"subunitcolor\":\"white\",\"showland\":true,\"showlakes\":true,\"lakecolor\":\"white\"},\"title\":{\"x\":0.05},\"mapbox\":{\"style\":\"light\"}}},\"scene\":{\"xaxis\":{\"title\":{\"text\":\"CO2 uitstoot\"}},\"yaxis\":{\"title\":{\"text\":\"Oppervlakte\"}},\"zaxis\":{\"title\":{\"text\":\"Bevolkingsomvang\"}}},\"width\":1000,\"height\":700,\"title\":{\"text\":\"3D spreidingsplot van de correlatie tussen CO2 uitstoot, bevolkingsomvang en totale oppervlakte per land\"}},                        {\"responsive\": true}                    ).then(function(){\n",
       "                            \n",
       "var gd = document.getElementById('3f7d52fe-e09a-4dd9-88dc-2da2e6278e7e');\n",
       "var x = new MutationObserver(function (mutations, observer) {{\n",
       "        var display = window.getComputedStyle(gd).display;\n",
       "        if (!display || display === 'none') {{\n",
       "            console.log([gd, 'removed!']);\n",
       "            Plotly.purge(gd);\n",
       "            observer.disconnect();\n",
       "        }}\n",
       "}});\n",
       "\n",
       "// Listen for the removal of the full notebook cells\n",
       "var notebookContainer = gd.closest('#notebook-container');\n",
       "if (notebookContainer) {{\n",
       "    x.observe(notebookContainer, {childList: true});\n",
       "}}\n",
       "\n",
       "// Listen for the clearing of the current output cell\n",
       "var outputEl = gd.closest('.output');\n",
       "if (outputEl) {{\n",
       "    x.observe(outputEl, {childList: true});\n",
       "}}\n",
       "\n",
       "                        })                };                });            </script>        </div>"
      ]
     },
     "metadata": {},
     "output_type": "display_data"
    }
   ],
   "source": [
    "# Maak 3D scatter plot\n",
    "fig = go.Figure(data=go.Scatter3d(\n",
    "    x=CO2_grouped['Population(2022)'],\n",
    "    y=CO2_grouped['Area'],\n",
    "    z=CO2_grouped['CO2 emission (Tons)'],\n",
    "    mode='markers',\n",
    "    marker=dict(\n",
    "        size=8,\n",
    "        color=CO2_grouped['CO2 emission (Tons)'],\n",
    "        colorscale='Viridis',\n",
    "        opacity=0.8\n",
    "    )\n",
    "))\n",
    "\n",
    "# Pas layout aan\n",
    "fig.update_layout(\n",
    "    scene=dict(\n",
    "        xaxis_title='CO2 uitstoot',\n",
    "        yaxis_title='Oppervlakte',\n",
    "        zaxis_title='Bevolkingsomvang'\n",
    "    ),\n",
    "    width=1000,\n",
    "    height=700,\n",
    "    title='3D spreidingsplot van de correlatie tussen CO2 uitstoot, bevolkingsomvang en totale oppervlakte per land'\n",
    ")\n",
    "\n",
    "# laat plot zien\n",
    "fig.show()"
   ]
  },
  {
   "cell_type": "markdown",
   "id": "2c716f7c",
   "metadata": {},
   "source": [
    "*Beschrijving PLOT 1*:\n",
    "- Op de x-as staat de bevolking per land\n",
    "- Op de y-as staat de oppervlakte per land\n",
    "- Op de z-as staat de CO2 uitstoot per land\n",
    "- De kern van deze plot is dat er een correlatie is tussen de oppervlakte, bevolkingsomvang, en de hoeveelheid CO2-uitstoot van een land."
   ]
  },
  {
   "cell_type": "markdown",
   "id": "17d952b5",
   "metadata": {},
   "source": [
    "Zoals te zien is in plot 1 is er een correlatie tussen de grootte van een land in vierkante kilometer, de bevolkingsomvang en de hoeveelheid CO2-uitstoot. De meeste landen zijn wat kleiner en hebben daardoor vaker een kleinere CO2-uitstoot, terwijl de grotere landen in de scatterplot, met een grotere bevolkingsomvang, ook meer CO2-uitstoot hebben. Dus hoe groter de bevolkingsomvang, hoe hoger de CO2-uitstoot is en dit toont een evenredig verband. Dit komt doordat grotere populaties over het algemeen meer hulpbronnen verbruiken, waaronder energie voor verwarming, koeling, transport, enz., wat kan leiden tot een grotere CO2-uitstoot. Daarnaast hebben grotere landen vaak meer natuurlijke hulpbronnen en ruimte voor industriële en agrarische activiteiten, wat kan leiden tot hogere CO2-uitstoot. Bovendien kunnen grotere landen ook meer infrastructuur en transportnetwerken hebben, wat ook bijdraagt aan de CO2-uitstoot."
   ]
  },
  {
   "cell_type": "markdown",
   "id": "bf553679",
   "metadata": {},
   "source": [
    "### PLOT 2: Donut diagram over gemiddelde procentuele uitstoot per land (2010-2019)"
   ]
  },
  {
   "cell_type": "code",
   "execution_count": 272,
   "id": "ec0252fa",
   "metadata": {},
   "outputs": [
    {
     "data": {
      "application/vnd.plotly.v1+json": {
       "config": {
        "plotlyServerURL": "https://plot.ly"
       },
       "data": [
        {
         "domain": {
          "x": [
           0,
           1
          ],
          "y": [
           0,
           1
          ]
         },
         "hole": 0.8,
         "hovertemplate": "index=%{label}<br>CO2 emission (Tons)=%{value}<extra></extra>",
         "labels": [
          "China",
          "Germany",
          "Japan",
          "Russia",
          "United Kingdom",
          "United States",
          "Overig"
         ],
         "legendgroup": "",
         "name": "",
         "showlegend": true,
         "textinfo": "label+percent",
         "textposition": "outside",
         "type": "pie",
         "values": [
          179600000000,
          88509205419.9,
          59230891010.5,
          106392044227.7,
          76008796833.3,
          388100000000,
          565844308995.4
         ]
        }
       ],
       "layout": {
        "height": 650,
        "legend": {
         "tracegroupgap": 0
        },
        "margin": {
         "t": 60
        },
        "showlegend": false,
        "template": {
         "data": {
          "bar": [
           {
            "error_x": {
             "color": "#2a3f5f"
            },
            "error_y": {
             "color": "#2a3f5f"
            },
            "marker": {
             "line": {
              "color": "#E5ECF6",
              "width": 0.5
             },
             "pattern": {
              "fillmode": "overlay",
              "size": 10,
              "solidity": 0.2
             }
            },
            "type": "bar"
           }
          ],
          "barpolar": [
           {
            "marker": {
             "line": {
              "color": "#E5ECF6",
              "width": 0.5
             },
             "pattern": {
              "fillmode": "overlay",
              "size": 10,
              "solidity": 0.2
             }
            },
            "type": "barpolar"
           }
          ],
          "carpet": [
           {
            "aaxis": {
             "endlinecolor": "#2a3f5f",
             "gridcolor": "white",
             "linecolor": "white",
             "minorgridcolor": "white",
             "startlinecolor": "#2a3f5f"
            },
            "baxis": {
             "endlinecolor": "#2a3f5f",
             "gridcolor": "white",
             "linecolor": "white",
             "minorgridcolor": "white",
             "startlinecolor": "#2a3f5f"
            },
            "type": "carpet"
           }
          ],
          "choropleth": [
           {
            "colorbar": {
             "outlinewidth": 0,
             "ticks": ""
            },
            "type": "choropleth"
           }
          ],
          "contour": [
           {
            "colorbar": {
             "outlinewidth": 0,
             "ticks": ""
            },
            "colorscale": [
             [
              0,
              "#0d0887"
             ],
             [
              0.1111111111111111,
              "#46039f"
             ],
             [
              0.2222222222222222,
              "#7201a8"
             ],
             [
              0.3333333333333333,
              "#9c179e"
             ],
             [
              0.4444444444444444,
              "#bd3786"
             ],
             [
              0.5555555555555556,
              "#d8576b"
             ],
             [
              0.6666666666666666,
              "#ed7953"
             ],
             [
              0.7777777777777778,
              "#fb9f3a"
             ],
             [
              0.8888888888888888,
              "#fdca26"
             ],
             [
              1,
              "#f0f921"
             ]
            ],
            "type": "contour"
           }
          ],
          "contourcarpet": [
           {
            "colorbar": {
             "outlinewidth": 0,
             "ticks": ""
            },
            "type": "contourcarpet"
           }
          ],
          "heatmap": [
           {
            "colorbar": {
             "outlinewidth": 0,
             "ticks": ""
            },
            "colorscale": [
             [
              0,
              "#0d0887"
             ],
             [
              0.1111111111111111,
              "#46039f"
             ],
             [
              0.2222222222222222,
              "#7201a8"
             ],
             [
              0.3333333333333333,
              "#9c179e"
             ],
             [
              0.4444444444444444,
              "#bd3786"
             ],
             [
              0.5555555555555556,
              "#d8576b"
             ],
             [
              0.6666666666666666,
              "#ed7953"
             ],
             [
              0.7777777777777778,
              "#fb9f3a"
             ],
             [
              0.8888888888888888,
              "#fdca26"
             ],
             [
              1,
              "#f0f921"
             ]
            ],
            "type": "heatmap"
           }
          ],
          "heatmapgl": [
           {
            "colorbar": {
             "outlinewidth": 0,
             "ticks": ""
            },
            "colorscale": [
             [
              0,
              "#0d0887"
             ],
             [
              0.1111111111111111,
              "#46039f"
             ],
             [
              0.2222222222222222,
              "#7201a8"
             ],
             [
              0.3333333333333333,
              "#9c179e"
             ],
             [
              0.4444444444444444,
              "#bd3786"
             ],
             [
              0.5555555555555556,
              "#d8576b"
             ],
             [
              0.6666666666666666,
              "#ed7953"
             ],
             [
              0.7777777777777778,
              "#fb9f3a"
             ],
             [
              0.8888888888888888,
              "#fdca26"
             ],
             [
              1,
              "#f0f921"
             ]
            ],
            "type": "heatmapgl"
           }
          ],
          "histogram": [
           {
            "marker": {
             "pattern": {
              "fillmode": "overlay",
              "size": 10,
              "solidity": 0.2
             }
            },
            "type": "histogram"
           }
          ],
          "histogram2d": [
           {
            "colorbar": {
             "outlinewidth": 0,
             "ticks": ""
            },
            "colorscale": [
             [
              0,
              "#0d0887"
             ],
             [
              0.1111111111111111,
              "#46039f"
             ],
             [
              0.2222222222222222,
              "#7201a8"
             ],
             [
              0.3333333333333333,
              "#9c179e"
             ],
             [
              0.4444444444444444,
              "#bd3786"
             ],
             [
              0.5555555555555556,
              "#d8576b"
             ],
             [
              0.6666666666666666,
              "#ed7953"
             ],
             [
              0.7777777777777778,
              "#fb9f3a"
             ],
             [
              0.8888888888888888,
              "#fdca26"
             ],
             [
              1,
              "#f0f921"
             ]
            ],
            "type": "histogram2d"
           }
          ],
          "histogram2dcontour": [
           {
            "colorbar": {
             "outlinewidth": 0,
             "ticks": ""
            },
            "colorscale": [
             [
              0,
              "#0d0887"
             ],
             [
              0.1111111111111111,
              "#46039f"
             ],
             [
              0.2222222222222222,
              "#7201a8"
             ],
             [
              0.3333333333333333,
              "#9c179e"
             ],
             [
              0.4444444444444444,
              "#bd3786"
             ],
             [
              0.5555555555555556,
              "#d8576b"
             ],
             [
              0.6666666666666666,
              "#ed7953"
             ],
             [
              0.7777777777777778,
              "#fb9f3a"
             ],
             [
              0.8888888888888888,
              "#fdca26"
             ],
             [
              1,
              "#f0f921"
             ]
            ],
            "type": "histogram2dcontour"
           }
          ],
          "mesh3d": [
           {
            "colorbar": {
             "outlinewidth": 0,
             "ticks": ""
            },
            "type": "mesh3d"
           }
          ],
          "parcoords": [
           {
            "line": {
             "colorbar": {
              "outlinewidth": 0,
              "ticks": ""
             }
            },
            "type": "parcoords"
           }
          ],
          "pie": [
           {
            "automargin": true,
            "type": "pie"
           }
          ],
          "scatter": [
           {
            "fillpattern": {
             "fillmode": "overlay",
             "size": 10,
             "solidity": 0.2
            },
            "type": "scatter"
           }
          ],
          "scatter3d": [
           {
            "line": {
             "colorbar": {
              "outlinewidth": 0,
              "ticks": ""
             }
            },
            "marker": {
             "colorbar": {
              "outlinewidth": 0,
              "ticks": ""
             }
            },
            "type": "scatter3d"
           }
          ],
          "scattercarpet": [
           {
            "marker": {
             "colorbar": {
              "outlinewidth": 0,
              "ticks": ""
             }
            },
            "type": "scattercarpet"
           }
          ],
          "scattergeo": [
           {
            "marker": {
             "colorbar": {
              "outlinewidth": 0,
              "ticks": ""
             }
            },
            "type": "scattergeo"
           }
          ],
          "scattergl": [
           {
            "marker": {
             "colorbar": {
              "outlinewidth": 0,
              "ticks": ""
             }
            },
            "type": "scattergl"
           }
          ],
          "scattermapbox": [
           {
            "marker": {
             "colorbar": {
              "outlinewidth": 0,
              "ticks": ""
             }
            },
            "type": "scattermapbox"
           }
          ],
          "scatterpolar": [
           {
            "marker": {
             "colorbar": {
              "outlinewidth": 0,
              "ticks": ""
             }
            },
            "type": "scatterpolar"
           }
          ],
          "scatterpolargl": [
           {
            "marker": {
             "colorbar": {
              "outlinewidth": 0,
              "ticks": ""
             }
            },
            "type": "scatterpolargl"
           }
          ],
          "scatterternary": [
           {
            "marker": {
             "colorbar": {
              "outlinewidth": 0,
              "ticks": ""
             }
            },
            "type": "scatterternary"
           }
          ],
          "surface": [
           {
            "colorbar": {
             "outlinewidth": 0,
             "ticks": ""
            },
            "colorscale": [
             [
              0,
              "#0d0887"
             ],
             [
              0.1111111111111111,
              "#46039f"
             ],
             [
              0.2222222222222222,
              "#7201a8"
             ],
             [
              0.3333333333333333,
              "#9c179e"
             ],
             [
              0.4444444444444444,
              "#bd3786"
             ],
             [
              0.5555555555555556,
              "#d8576b"
             ],
             [
              0.6666666666666666,
              "#ed7953"
             ],
             [
              0.7777777777777778,
              "#fb9f3a"
             ],
             [
              0.8888888888888888,
              "#fdca26"
             ],
             [
              1,
              "#f0f921"
             ]
            ],
            "type": "surface"
           }
          ],
          "table": [
           {
            "cells": {
             "fill": {
              "color": "#EBF0F8"
             },
             "line": {
              "color": "white"
             }
            },
            "header": {
             "fill": {
              "color": "#C8D4E3"
             },
             "line": {
              "color": "white"
             }
            },
            "type": "table"
           }
          ]
         },
         "layout": {
          "annotationdefaults": {
           "arrowcolor": "#2a3f5f",
           "arrowhead": 0,
           "arrowwidth": 1
          },
          "autotypenumbers": "strict",
          "coloraxis": {
           "colorbar": {
            "outlinewidth": 0,
            "ticks": ""
           }
          },
          "colorscale": {
           "diverging": [
            [
             0,
             "#8e0152"
            ],
            [
             0.1,
             "#c51b7d"
            ],
            [
             0.2,
             "#de77ae"
            ],
            [
             0.3,
             "#f1b6da"
            ],
            [
             0.4,
             "#fde0ef"
            ],
            [
             0.5,
             "#f7f7f7"
            ],
            [
             0.6,
             "#e6f5d0"
            ],
            [
             0.7,
             "#b8e186"
            ],
            [
             0.8,
             "#7fbc41"
            ],
            [
             0.9,
             "#4d9221"
            ],
            [
             1,
             "#276419"
            ]
           ],
           "sequential": [
            [
             0,
             "#0d0887"
            ],
            [
             0.1111111111111111,
             "#46039f"
            ],
            [
             0.2222222222222222,
             "#7201a8"
            ],
            [
             0.3333333333333333,
             "#9c179e"
            ],
            [
             0.4444444444444444,
             "#bd3786"
            ],
            [
             0.5555555555555556,
             "#d8576b"
            ],
            [
             0.6666666666666666,
             "#ed7953"
            ],
            [
             0.7777777777777778,
             "#fb9f3a"
            ],
            [
             0.8888888888888888,
             "#fdca26"
            ],
            [
             1,
             "#f0f921"
            ]
           ],
           "sequentialminus": [
            [
             0,
             "#0d0887"
            ],
            [
             0.1111111111111111,
             "#46039f"
            ],
            [
             0.2222222222222222,
             "#7201a8"
            ],
            [
             0.3333333333333333,
             "#9c179e"
            ],
            [
             0.4444444444444444,
             "#bd3786"
            ],
            [
             0.5555555555555556,
             "#d8576b"
            ],
            [
             0.6666666666666666,
             "#ed7953"
            ],
            [
             0.7777777777777778,
             "#fb9f3a"
            ],
            [
             0.8888888888888888,
             "#fdca26"
            ],
            [
             1,
             "#f0f921"
            ]
           ]
          },
          "colorway": [
           "#636efa",
           "#EF553B",
           "#00cc96",
           "#ab63fa",
           "#FFA15A",
           "#19d3f3",
           "#FF6692",
           "#B6E880",
           "#FF97FF",
           "#FECB52"
          ],
          "font": {
           "color": "#2a3f5f"
          },
          "geo": {
           "bgcolor": "white",
           "lakecolor": "white",
           "landcolor": "#E5ECF6",
           "showlakes": true,
           "showland": true,
           "subunitcolor": "white"
          },
          "hoverlabel": {
           "align": "left"
          },
          "hovermode": "closest",
          "mapbox": {
           "style": "light"
          },
          "paper_bgcolor": "white",
          "plot_bgcolor": "#E5ECF6",
          "polar": {
           "angularaxis": {
            "gridcolor": "white",
            "linecolor": "white",
            "ticks": ""
           },
           "bgcolor": "#E5ECF6",
           "radialaxis": {
            "gridcolor": "white",
            "linecolor": "white",
            "ticks": ""
           }
          },
          "scene": {
           "xaxis": {
            "backgroundcolor": "#E5ECF6",
            "gridcolor": "white",
            "gridwidth": 2,
            "linecolor": "white",
            "showbackground": true,
            "ticks": "",
            "zerolinecolor": "white"
           },
           "yaxis": {
            "backgroundcolor": "#E5ECF6",
            "gridcolor": "white",
            "gridwidth": 2,
            "linecolor": "white",
            "showbackground": true,
            "ticks": "",
            "zerolinecolor": "white"
           },
           "zaxis": {
            "backgroundcolor": "#E5ECF6",
            "gridcolor": "white",
            "gridwidth": 2,
            "linecolor": "white",
            "showbackground": true,
            "ticks": "",
            "zerolinecolor": "white"
           }
          },
          "shapedefaults": {
           "line": {
            "color": "#2a3f5f"
           }
          },
          "ternary": {
           "aaxis": {
            "gridcolor": "white",
            "linecolor": "white",
            "ticks": ""
           },
           "baxis": {
            "gridcolor": "white",
            "linecolor": "white",
            "ticks": ""
           },
           "bgcolor": "#E5ECF6",
           "caxis": {
            "gridcolor": "white",
            "linecolor": "white",
            "ticks": ""
           }
          },
          "title": {
           "x": 0.05
          },
          "xaxis": {
           "automargin": true,
           "gridcolor": "white",
           "linecolor": "white",
           "ticks": "",
           "title": {
            "standoff": 15
           },
           "zerolinecolor": "white",
           "zerolinewidth": 2
          },
          "yaxis": {
           "automargin": true,
           "gridcolor": "white",
           "linecolor": "white",
           "ticks": "",
           "title": {
            "standoff": 15
           },
           "zerolinecolor": "white",
           "zerolinewidth": 2
          }
         }
        },
        "title": {
         "text": "Gemiddelde procentuele CO2 uitstoot per land tussen 2010 en 2019"
        }
       }
      },
      "text/html": [
       "<div>                            <div id=\"8f2936ef-48bf-46bb-bedb-df73bb4fea3a\" class=\"plotly-graph-div\" style=\"height:650px; width:100%;\"></div>            <script type=\"text/javascript\">                require([\"plotly\"], function(Plotly) {                    window.PLOTLYENV=window.PLOTLYENV || {};                                    if (document.getElementById(\"8f2936ef-48bf-46bb-bedb-df73bb4fea3a\")) {                    Plotly.newPlot(                        \"8f2936ef-48bf-46bb-bedb-df73bb4fea3a\",                        [{\"domain\":{\"x\":[0.0,1.0],\"y\":[0.0,1.0]},\"hole\":0.8,\"hovertemplate\":\"index=%{label}<br>CO2 emission (Tons)=%{value}<extra></extra>\",\"labels\":[\"China\",\"Germany\",\"Japan\",\"Russia\",\"United Kingdom\",\"United States\",\"Overig\"],\"legendgroup\":\"\",\"name\":\"\",\"showlegend\":true,\"values\":[179600000000.0,88509205419.9,59230891010.5,106392044227.7,76008796833.3,388100000000.0,565844308995.4],\"type\":\"pie\",\"textinfo\":\"label+percent\",\"textposition\":\"outside\"}],                        {\"template\":{\"data\":{\"histogram2dcontour\":[{\"type\":\"histogram2dcontour\",\"colorbar\":{\"outlinewidth\":0,\"ticks\":\"\"},\"colorscale\":[[0.0,\"#0d0887\"],[0.1111111111111111,\"#46039f\"],[0.2222222222222222,\"#7201a8\"],[0.3333333333333333,\"#9c179e\"],[0.4444444444444444,\"#bd3786\"],[0.5555555555555556,\"#d8576b\"],[0.6666666666666666,\"#ed7953\"],[0.7777777777777778,\"#fb9f3a\"],[0.8888888888888888,\"#fdca26\"],[1.0,\"#f0f921\"]]}],\"choropleth\":[{\"type\":\"choropleth\",\"colorbar\":{\"outlinewidth\":0,\"ticks\":\"\"}}],\"histogram2d\":[{\"type\":\"histogram2d\",\"colorbar\":{\"outlinewidth\":0,\"ticks\":\"\"},\"colorscale\":[[0.0,\"#0d0887\"],[0.1111111111111111,\"#46039f\"],[0.2222222222222222,\"#7201a8\"],[0.3333333333333333,\"#9c179e\"],[0.4444444444444444,\"#bd3786\"],[0.5555555555555556,\"#d8576b\"],[0.6666666666666666,\"#ed7953\"],[0.7777777777777778,\"#fb9f3a\"],[0.8888888888888888,\"#fdca26\"],[1.0,\"#f0f921\"]]}],\"heatmap\":[{\"type\":\"heatmap\",\"colorbar\":{\"outlinewidth\":0,\"ticks\":\"\"},\"colorscale\":[[0.0,\"#0d0887\"],[0.1111111111111111,\"#46039f\"],[0.2222222222222222,\"#7201a8\"],[0.3333333333333333,\"#9c179e\"],[0.4444444444444444,\"#bd3786\"],[0.5555555555555556,\"#d8576b\"],[0.6666666666666666,\"#ed7953\"],[0.7777777777777778,\"#fb9f3a\"],[0.8888888888888888,\"#fdca26\"],[1.0,\"#f0f921\"]]}],\"heatmapgl\":[{\"type\":\"heatmapgl\",\"colorbar\":{\"outlinewidth\":0,\"ticks\":\"\"},\"colorscale\":[[0.0,\"#0d0887\"],[0.1111111111111111,\"#46039f\"],[0.2222222222222222,\"#7201a8\"],[0.3333333333333333,\"#9c179e\"],[0.4444444444444444,\"#bd3786\"],[0.5555555555555556,\"#d8576b\"],[0.6666666666666666,\"#ed7953\"],[0.7777777777777778,\"#fb9f3a\"],[0.8888888888888888,\"#fdca26\"],[1.0,\"#f0f921\"]]}],\"contourcarpet\":[{\"type\":\"contourcarpet\",\"colorbar\":{\"outlinewidth\":0,\"ticks\":\"\"}}],\"contour\":[{\"type\":\"contour\",\"colorbar\":{\"outlinewidth\":0,\"ticks\":\"\"},\"colorscale\":[[0.0,\"#0d0887\"],[0.1111111111111111,\"#46039f\"],[0.2222222222222222,\"#7201a8\"],[0.3333333333333333,\"#9c179e\"],[0.4444444444444444,\"#bd3786\"],[0.5555555555555556,\"#d8576b\"],[0.6666666666666666,\"#ed7953\"],[0.7777777777777778,\"#fb9f3a\"],[0.8888888888888888,\"#fdca26\"],[1.0,\"#f0f921\"]]}],\"surface\":[{\"type\":\"surface\",\"colorbar\":{\"outlinewidth\":0,\"ticks\":\"\"},\"colorscale\":[[0.0,\"#0d0887\"],[0.1111111111111111,\"#46039f\"],[0.2222222222222222,\"#7201a8\"],[0.3333333333333333,\"#9c179e\"],[0.4444444444444444,\"#bd3786\"],[0.5555555555555556,\"#d8576b\"],[0.6666666666666666,\"#ed7953\"],[0.7777777777777778,\"#fb9f3a\"],[0.8888888888888888,\"#fdca26\"],[1.0,\"#f0f921\"]]}],\"mesh3d\":[{\"type\":\"mesh3d\",\"colorbar\":{\"outlinewidth\":0,\"ticks\":\"\"}}],\"scatter\":[{\"fillpattern\":{\"fillmode\":\"overlay\",\"size\":10,\"solidity\":0.2},\"type\":\"scatter\"}],\"parcoords\":[{\"type\":\"parcoords\",\"line\":{\"colorbar\":{\"outlinewidth\":0,\"ticks\":\"\"}}}],\"scatterpolargl\":[{\"type\":\"scatterpolargl\",\"marker\":{\"colorbar\":{\"outlinewidth\":0,\"ticks\":\"\"}}}],\"bar\":[{\"error_x\":{\"color\":\"#2a3f5f\"},\"error_y\":{\"color\":\"#2a3f5f\"},\"marker\":{\"line\":{\"color\":\"#E5ECF6\",\"width\":0.5},\"pattern\":{\"fillmode\":\"overlay\",\"size\":10,\"solidity\":0.2}},\"type\":\"bar\"}],\"scattergeo\":[{\"type\":\"scattergeo\",\"marker\":{\"colorbar\":{\"outlinewidth\":0,\"ticks\":\"\"}}}],\"scatterpolar\":[{\"type\":\"scatterpolar\",\"marker\":{\"colorbar\":{\"outlinewidth\":0,\"ticks\":\"\"}}}],\"histogram\":[{\"marker\":{\"pattern\":{\"fillmode\":\"overlay\",\"size\":10,\"solidity\":0.2}},\"type\":\"histogram\"}],\"scattergl\":[{\"type\":\"scattergl\",\"marker\":{\"colorbar\":{\"outlinewidth\":0,\"ticks\":\"\"}}}],\"scatter3d\":[{\"type\":\"scatter3d\",\"line\":{\"colorbar\":{\"outlinewidth\":0,\"ticks\":\"\"}},\"marker\":{\"colorbar\":{\"outlinewidth\":0,\"ticks\":\"\"}}}],\"scattermapbox\":[{\"type\":\"scattermapbox\",\"marker\":{\"colorbar\":{\"outlinewidth\":0,\"ticks\":\"\"}}}],\"scatterternary\":[{\"type\":\"scatterternary\",\"marker\":{\"colorbar\":{\"outlinewidth\":0,\"ticks\":\"\"}}}],\"scattercarpet\":[{\"type\":\"scattercarpet\",\"marker\":{\"colorbar\":{\"outlinewidth\":0,\"ticks\":\"\"}}}],\"carpet\":[{\"aaxis\":{\"endlinecolor\":\"#2a3f5f\",\"gridcolor\":\"white\",\"linecolor\":\"white\",\"minorgridcolor\":\"white\",\"startlinecolor\":\"#2a3f5f\"},\"baxis\":{\"endlinecolor\":\"#2a3f5f\",\"gridcolor\":\"white\",\"linecolor\":\"white\",\"minorgridcolor\":\"white\",\"startlinecolor\":\"#2a3f5f\"},\"type\":\"carpet\"}],\"table\":[{\"cells\":{\"fill\":{\"color\":\"#EBF0F8\"},\"line\":{\"color\":\"white\"}},\"header\":{\"fill\":{\"color\":\"#C8D4E3\"},\"line\":{\"color\":\"white\"}},\"type\":\"table\"}],\"barpolar\":[{\"marker\":{\"line\":{\"color\":\"#E5ECF6\",\"width\":0.5},\"pattern\":{\"fillmode\":\"overlay\",\"size\":10,\"solidity\":0.2}},\"type\":\"barpolar\"}],\"pie\":[{\"automargin\":true,\"type\":\"pie\"}]},\"layout\":{\"autotypenumbers\":\"strict\",\"colorway\":[\"#636efa\",\"#EF553B\",\"#00cc96\",\"#ab63fa\",\"#FFA15A\",\"#19d3f3\",\"#FF6692\",\"#B6E880\",\"#FF97FF\",\"#FECB52\"],\"font\":{\"color\":\"#2a3f5f\"},\"hovermode\":\"closest\",\"hoverlabel\":{\"align\":\"left\"},\"paper_bgcolor\":\"white\",\"plot_bgcolor\":\"#E5ECF6\",\"polar\":{\"bgcolor\":\"#E5ECF6\",\"angularaxis\":{\"gridcolor\":\"white\",\"linecolor\":\"white\",\"ticks\":\"\"},\"radialaxis\":{\"gridcolor\":\"white\",\"linecolor\":\"white\",\"ticks\":\"\"}},\"ternary\":{\"bgcolor\":\"#E5ECF6\",\"aaxis\":{\"gridcolor\":\"white\",\"linecolor\":\"white\",\"ticks\":\"\"},\"baxis\":{\"gridcolor\":\"white\",\"linecolor\":\"white\",\"ticks\":\"\"},\"caxis\":{\"gridcolor\":\"white\",\"linecolor\":\"white\",\"ticks\":\"\"}},\"coloraxis\":{\"colorbar\":{\"outlinewidth\":0,\"ticks\":\"\"}},\"colorscale\":{\"sequential\":[[0.0,\"#0d0887\"],[0.1111111111111111,\"#46039f\"],[0.2222222222222222,\"#7201a8\"],[0.3333333333333333,\"#9c179e\"],[0.4444444444444444,\"#bd3786\"],[0.5555555555555556,\"#d8576b\"],[0.6666666666666666,\"#ed7953\"],[0.7777777777777778,\"#fb9f3a\"],[0.8888888888888888,\"#fdca26\"],[1.0,\"#f0f921\"]],\"sequentialminus\":[[0.0,\"#0d0887\"],[0.1111111111111111,\"#46039f\"],[0.2222222222222222,\"#7201a8\"],[0.3333333333333333,\"#9c179e\"],[0.4444444444444444,\"#bd3786\"],[0.5555555555555556,\"#d8576b\"],[0.6666666666666666,\"#ed7953\"],[0.7777777777777778,\"#fb9f3a\"],[0.8888888888888888,\"#fdca26\"],[1.0,\"#f0f921\"]],\"diverging\":[[0,\"#8e0152\"],[0.1,\"#c51b7d\"],[0.2,\"#de77ae\"],[0.3,\"#f1b6da\"],[0.4,\"#fde0ef\"],[0.5,\"#f7f7f7\"],[0.6,\"#e6f5d0\"],[0.7,\"#b8e186\"],[0.8,\"#7fbc41\"],[0.9,\"#4d9221\"],[1,\"#276419\"]]},\"xaxis\":{\"gridcolor\":\"white\",\"linecolor\":\"white\",\"ticks\":\"\",\"title\":{\"standoff\":15},\"zerolinecolor\":\"white\",\"automargin\":true,\"zerolinewidth\":2},\"yaxis\":{\"gridcolor\":\"white\",\"linecolor\":\"white\",\"ticks\":\"\",\"title\":{\"standoff\":15},\"zerolinecolor\":\"white\",\"automargin\":true,\"zerolinewidth\":2},\"scene\":{\"xaxis\":{\"backgroundcolor\":\"#E5ECF6\",\"gridcolor\":\"white\",\"linecolor\":\"white\",\"showbackground\":true,\"ticks\":\"\",\"zerolinecolor\":\"white\",\"gridwidth\":2},\"yaxis\":{\"backgroundcolor\":\"#E5ECF6\",\"gridcolor\":\"white\",\"linecolor\":\"white\",\"showbackground\":true,\"ticks\":\"\",\"zerolinecolor\":\"white\",\"gridwidth\":2},\"zaxis\":{\"backgroundcolor\":\"#E5ECF6\",\"gridcolor\":\"white\",\"linecolor\":\"white\",\"showbackground\":true,\"ticks\":\"\",\"zerolinecolor\":\"white\",\"gridwidth\":2}},\"shapedefaults\":{\"line\":{\"color\":\"#2a3f5f\"}},\"annotationdefaults\":{\"arrowcolor\":\"#2a3f5f\",\"arrowhead\":0,\"arrowwidth\":1},\"geo\":{\"bgcolor\":\"white\",\"landcolor\":\"#E5ECF6\",\"subunitcolor\":\"white\",\"showland\":true,\"showlakes\":true,\"lakecolor\":\"white\"},\"title\":{\"x\":0.05},\"mapbox\":{\"style\":\"light\"}}},\"legend\":{\"tracegroupgap\":0},\"margin\":{\"t\":60},\"title\":{\"text\":\"Gemiddelde procentuele CO2 uitstoot per land tussen 2010 en 2019\"},\"showlegend\":false,\"height\":650},                        {\"responsive\": true}                    ).then(function(){\n",
       "                            \n",
       "var gd = document.getElementById('8f2936ef-48bf-46bb-bedb-df73bb4fea3a');\n",
       "var x = new MutationObserver(function (mutations, observer) {{\n",
       "        var display = window.getComputedStyle(gd).display;\n",
       "        if (!display || display === 'none') {{\n",
       "            console.log([gd, 'removed!']);\n",
       "            Plotly.purge(gd);\n",
       "            observer.disconnect();\n",
       "        }}\n",
       "}});\n",
       "\n",
       "// Listen for the removal of the full notebook cells\n",
       "var notebookContainer = gd.closest('#notebook-container');\n",
       "if (notebookContainer) {{\n",
       "    x.observe(notebookContainer, {childList: true});\n",
       "}}\n",
       "\n",
       "// Listen for the clearing of the current output cell\n",
       "var outputEl = gd.closest('.output');\n",
       "if (outputEl) {{\n",
       "    x.observe(outputEl, {childList: true});\n",
       "}}\n",
       "\n",
       "                        })                };                });            </script>        </div>"
      ]
     },
     "metadata": {},
     "output_type": "display_data"
    }
   ],
   "source": [
    "# Bereken aandeel per land\n",
    "total = CO2_grouped['CO2 emission (Tons)'].sum()\n",
    "CO2_grouped['Percentage'] = CO2_grouped['CO2 emission (Tons)'] / total * 100\n",
    "\n",
    "# Filter landen die lager dan 3% hebben\n",
    "small_emitters = CO2_grouped[CO2_grouped['Percentage'] < 3]\n",
    "\n",
    "# Groepeer lager dan 3% als overige categorie\n",
    "small_emitters_total = small_emitters['CO2 emission (Tons)'].sum()\n",
    "small_emitters_row = pd.DataFrame(data={'Percentage': [small_emitters_total], 'CO2 emission (Tons)': [small_emitters_total]}, index=['Overig'])\n",
    "\n",
    "# Maak overige categorie\n",
    "combined_grouped = pd.concat([CO2_grouped[CO2_grouped['Percentage'] >= 3], small_emitters_row])\n",
    "\n",
    "# Maak plot\n",
    "fig = px.pie(combined_grouped, values='CO2 emission (Tons)', names=combined_grouped.index, hole=0.8)\n",
    "\n",
    "# Pas layout aan\n",
    "fig.update_layout(\n",
    "    title='Gemiddelde procentuele CO2 uitstoot per land tussen 2010 en 2019',\n",
    "    showlegend=False,\n",
    "    height=650\n",
    ")\n",
    "\n",
    "# Fix labels\n",
    "fig.update_traces(textposition='outside', textinfo='label+percent')\n",
    "\n",
    "# laat plot zien\n",
    "fig.show()"
   ]
  },
  {
   "cell_type": "markdown",
   "id": "e3019fe9",
   "metadata": {},
   "source": [
    "*Beschrijving PLOT 2*:\n",
    "- Voor elk land is het procentuele aandeel van de mondiale CO2-uitstoot berekent.\n",
    "- De kern van deze plot is dat er een aantal landen zijn die procentueel veel meer uitstoten dan anderen."
   ]
  },
  {
   "cell_type": "markdown",
   "id": "77903e95",
   "metadata": {},
   "source": [
    "In de bovenstaande Donut chart is de gemiddelde procentuele CO2-uitstoot per land tussen 2010 en 2019 te zien. De plot onthult dat de Verenigde Staten maar liefst 26.5% van de mondiale CO2-uitstoot veroorzaakt, waarmee het de voornaamste verantwoordelijke is. Direct na de Verenigde Staten staat China als één na hoogste land met de grootste CO2-uitstoot. Op rangvolgorde volgen Rusland, Duitsland, Verenigd Koninkrijk en uiteindelijk Japan als de 6 landen die het meeste bijdragen aan deze uitstoot. De overige landen liggen allemaal onder de 3.0% uitstoot op mondiaal niveau, waardoor ze in vergelijking met de andere landen bescheiden bijdragen."
   ]
  },
  {
   "cell_type": "code",
   "execution_count": 273,
   "id": "03bb08d8",
   "metadata": {},
   "outputs": [
    {
     "data": {
      "text/html": [
       "<div>\n",
       "<style scoped>\n",
       "    .dataframe tbody tr th:only-of-type {\n",
       "        vertical-align: middle;\n",
       "    }\n",
       "\n",
       "    .dataframe tbody tr th {\n",
       "        vertical-align: top;\n",
       "    }\n",
       "\n",
       "    .dataframe thead th {\n",
       "        text-align: right;\n",
       "    }\n",
       "</style>\n",
       "<table border=\"1\" class=\"dataframe\">\n",
       "  <thead>\n",
       "    <tr style=\"text-align: right;\">\n",
       "      <th></th>\n",
       "      <th>Area Code</th>\n",
       "      <th>Area</th>\n",
       "      <th>Months Code</th>\n",
       "      <th>Months</th>\n",
       "      <th>Element Code</th>\n",
       "      <th>Element</th>\n",
       "      <th>Unit</th>\n",
       "      <th>Y1961</th>\n",
       "      <th>Y1962</th>\n",
       "      <th>Y1963</th>\n",
       "      <th>...</th>\n",
       "      <th>Y2010</th>\n",
       "      <th>Y2011</th>\n",
       "      <th>Y2012</th>\n",
       "      <th>Y2013</th>\n",
       "      <th>Y2014</th>\n",
       "      <th>Y2015</th>\n",
       "      <th>Y2016</th>\n",
       "      <th>Y2017</th>\n",
       "      <th>Y2018</th>\n",
       "      <th>Y2019</th>\n",
       "    </tr>\n",
       "  </thead>\n",
       "  <tbody>\n",
       "    <tr>\n",
       "      <th>0</th>\n",
       "      <td>2</td>\n",
       "      <td>Afghanistan</td>\n",
       "      <td>7001</td>\n",
       "      <td>January</td>\n",
       "      <td>7271</td>\n",
       "      <td>Temperature change</td>\n",
       "      <td>°C</td>\n",
       "      <td>0.777</td>\n",
       "      <td>0.062</td>\n",
       "      <td>2.744</td>\n",
       "      <td>...</td>\n",
       "      <td>3.601</td>\n",
       "      <td>1.179</td>\n",
       "      <td>-0.583</td>\n",
       "      <td>1.233</td>\n",
       "      <td>1.755</td>\n",
       "      <td>1.943</td>\n",
       "      <td>3.416</td>\n",
       "      <td>1.201</td>\n",
       "      <td>1.996</td>\n",
       "      <td>2.951</td>\n",
       "    </tr>\n",
       "    <tr>\n",
       "      <th>1</th>\n",
       "      <td>2</td>\n",
       "      <td>Afghanistan</td>\n",
       "      <td>7001</td>\n",
       "      <td>January</td>\n",
       "      <td>6078</td>\n",
       "      <td>Standard Deviation</td>\n",
       "      <td>°C</td>\n",
       "      <td>1.950</td>\n",
       "      <td>1.950</td>\n",
       "      <td>1.950</td>\n",
       "      <td>...</td>\n",
       "      <td>1.950</td>\n",
       "      <td>1.950</td>\n",
       "      <td>1.950</td>\n",
       "      <td>1.950</td>\n",
       "      <td>1.950</td>\n",
       "      <td>1.950</td>\n",
       "      <td>1.950</td>\n",
       "      <td>1.950</td>\n",
       "      <td>1.950</td>\n",
       "      <td>1.950</td>\n",
       "    </tr>\n",
       "    <tr>\n",
       "      <th>2</th>\n",
       "      <td>2</td>\n",
       "      <td>Afghanistan</td>\n",
       "      <td>7002</td>\n",
       "      <td>February</td>\n",
       "      <td>7271</td>\n",
       "      <td>Temperature change</td>\n",
       "      <td>°C</td>\n",
       "      <td>-1.743</td>\n",
       "      <td>2.465</td>\n",
       "      <td>3.919</td>\n",
       "      <td>...</td>\n",
       "      <td>1.212</td>\n",
       "      <td>0.321</td>\n",
       "      <td>-3.201</td>\n",
       "      <td>1.494</td>\n",
       "      <td>-3.187</td>\n",
       "      <td>2.699</td>\n",
       "      <td>2.251</td>\n",
       "      <td>-0.323</td>\n",
       "      <td>2.705</td>\n",
       "      <td>0.086</td>\n",
       "    </tr>\n",
       "    <tr>\n",
       "      <th>3</th>\n",
       "      <td>2</td>\n",
       "      <td>Afghanistan</td>\n",
       "      <td>7002</td>\n",
       "      <td>February</td>\n",
       "      <td>6078</td>\n",
       "      <td>Standard Deviation</td>\n",
       "      <td>°C</td>\n",
       "      <td>2.597</td>\n",
       "      <td>2.597</td>\n",
       "      <td>2.597</td>\n",
       "      <td>...</td>\n",
       "      <td>2.597</td>\n",
       "      <td>2.597</td>\n",
       "      <td>2.597</td>\n",
       "      <td>2.597</td>\n",
       "      <td>2.597</td>\n",
       "      <td>2.597</td>\n",
       "      <td>2.597</td>\n",
       "      <td>2.597</td>\n",
       "      <td>2.597</td>\n",
       "      <td>2.597</td>\n",
       "    </tr>\n",
       "    <tr>\n",
       "      <th>4</th>\n",
       "      <td>2</td>\n",
       "      <td>Afghanistan</td>\n",
       "      <td>7003</td>\n",
       "      <td>March</td>\n",
       "      <td>7271</td>\n",
       "      <td>Temperature change</td>\n",
       "      <td>°C</td>\n",
       "      <td>0.516</td>\n",
       "      <td>1.336</td>\n",
       "      <td>0.403</td>\n",
       "      <td>...</td>\n",
       "      <td>3.390</td>\n",
       "      <td>0.748</td>\n",
       "      <td>-0.527</td>\n",
       "      <td>2.246</td>\n",
       "      <td>-0.076</td>\n",
       "      <td>-0.497</td>\n",
       "      <td>2.296</td>\n",
       "      <td>0.834</td>\n",
       "      <td>4.418</td>\n",
       "      <td>0.234</td>\n",
       "    </tr>\n",
       "    <tr>\n",
       "      <th>...</th>\n",
       "      <td>...</td>\n",
       "      <td>...</td>\n",
       "      <td>...</td>\n",
       "      <td>...</td>\n",
       "      <td>...</td>\n",
       "      <td>...</td>\n",
       "      <td>...</td>\n",
       "      <td>...</td>\n",
       "      <td>...</td>\n",
       "      <td>...</td>\n",
       "      <td>...</td>\n",
       "      <td>...</td>\n",
       "      <td>...</td>\n",
       "      <td>...</td>\n",
       "      <td>...</td>\n",
       "      <td>...</td>\n",
       "      <td>...</td>\n",
       "      <td>...</td>\n",
       "      <td>...</td>\n",
       "      <td>...</td>\n",
       "      <td>...</td>\n",
       "    </tr>\n",
       "    <tr>\n",
       "      <th>9651</th>\n",
       "      <td>5873</td>\n",
       "      <td>OECD</td>\n",
       "      <td>7018</td>\n",
       "      <td>JunJulAug</td>\n",
       "      <td>6078</td>\n",
       "      <td>Standard Deviation</td>\n",
       "      <td>°C</td>\n",
       "      <td>0.247</td>\n",
       "      <td>0.247</td>\n",
       "      <td>0.247</td>\n",
       "      <td>...</td>\n",
       "      <td>0.247</td>\n",
       "      <td>0.247</td>\n",
       "      <td>0.247</td>\n",
       "      <td>0.247</td>\n",
       "      <td>0.247</td>\n",
       "      <td>0.247</td>\n",
       "      <td>0.247</td>\n",
       "      <td>0.247</td>\n",
       "      <td>0.247</td>\n",
       "      <td>0.247</td>\n",
       "    </tr>\n",
       "    <tr>\n",
       "      <th>9652</th>\n",
       "      <td>5873</td>\n",
       "      <td>OECD</td>\n",
       "      <td>7019</td>\n",
       "      <td>SepOctNov</td>\n",
       "      <td>7271</td>\n",
       "      <td>Temperature change</td>\n",
       "      <td>°C</td>\n",
       "      <td>0.036</td>\n",
       "      <td>0.461</td>\n",
       "      <td>0.665</td>\n",
       "      <td>...</td>\n",
       "      <td>0.958</td>\n",
       "      <td>1.106</td>\n",
       "      <td>0.885</td>\n",
       "      <td>1.041</td>\n",
       "      <td>0.999</td>\n",
       "      <td>1.670</td>\n",
       "      <td>1.535</td>\n",
       "      <td>1.194</td>\n",
       "      <td>0.581</td>\n",
       "      <td>1.233</td>\n",
       "    </tr>\n",
       "    <tr>\n",
       "      <th>9653</th>\n",
       "      <td>5873</td>\n",
       "      <td>OECD</td>\n",
       "      <td>7019</td>\n",
       "      <td>SepOctNov</td>\n",
       "      <td>6078</td>\n",
       "      <td>Standard Deviation</td>\n",
       "      <td>°C</td>\n",
       "      <td>0.378</td>\n",
       "      <td>0.378</td>\n",
       "      <td>0.378</td>\n",
       "      <td>...</td>\n",
       "      <td>0.378</td>\n",
       "      <td>0.378</td>\n",
       "      <td>0.378</td>\n",
       "      <td>0.378</td>\n",
       "      <td>0.378</td>\n",
       "      <td>0.378</td>\n",
       "      <td>0.378</td>\n",
       "      <td>0.378</td>\n",
       "      <td>0.378</td>\n",
       "      <td>0.378</td>\n",
       "    </tr>\n",
       "    <tr>\n",
       "      <th>9654</th>\n",
       "      <td>5873</td>\n",
       "      <td>OECD</td>\n",
       "      <td>7020</td>\n",
       "      <td>Meteorological year</td>\n",
       "      <td>7271</td>\n",
       "      <td>Temperature change</td>\n",
       "      <td>°C</td>\n",
       "      <td>0.165</td>\n",
       "      <td>-0.009</td>\n",
       "      <td>0.134</td>\n",
       "      <td>...</td>\n",
       "      <td>1.246</td>\n",
       "      <td>0.805</td>\n",
       "      <td>1.274</td>\n",
       "      <td>0.991</td>\n",
       "      <td>0.811</td>\n",
       "      <td>1.282</td>\n",
       "      <td>1.850</td>\n",
       "      <td>1.349</td>\n",
       "      <td>1.088</td>\n",
       "      <td>1.297</td>\n",
       "    </tr>\n",
       "    <tr>\n",
       "      <th>9655</th>\n",
       "      <td>5873</td>\n",
       "      <td>OECD</td>\n",
       "      <td>7020</td>\n",
       "      <td>Meteorological year</td>\n",
       "      <td>6078</td>\n",
       "      <td>Standard Deviation</td>\n",
       "      <td>°C</td>\n",
       "      <td>0.260</td>\n",
       "      <td>0.260</td>\n",
       "      <td>0.260</td>\n",
       "      <td>...</td>\n",
       "      <td>0.260</td>\n",
       "      <td>0.260</td>\n",
       "      <td>0.260</td>\n",
       "      <td>0.260</td>\n",
       "      <td>0.260</td>\n",
       "      <td>0.260</td>\n",
       "      <td>0.260</td>\n",
       "      <td>0.260</td>\n",
       "      <td>0.260</td>\n",
       "      <td>0.260</td>\n",
       "    </tr>\n",
       "  </tbody>\n",
       "</table>\n",
       "<p>9656 rows × 66 columns</p>\n",
       "</div>"
      ],
      "text/plain": [
       "      Area Code         Area  Months Code               Months  Element Code  \\\n",
       "0             2  Afghanistan         7001              January          7271   \n",
       "1             2  Afghanistan         7001              January          6078   \n",
       "2             2  Afghanistan         7002             February          7271   \n",
       "3             2  Afghanistan         7002             February          6078   \n",
       "4             2  Afghanistan         7003                March          7271   \n",
       "...         ...          ...          ...                  ...           ...   \n",
       "9651       5873         OECD         7018          JunJulAug          6078   \n",
       "9652       5873         OECD         7019          SepOctNov          7271   \n",
       "9653       5873         OECD         7019          SepOctNov          6078   \n",
       "9654       5873         OECD         7020  Meteorological year          7271   \n",
       "9655       5873         OECD         7020  Meteorological year          6078   \n",
       "\n",
       "                 Element Unit  Y1961  Y1962  Y1963  ...  Y2010  Y2011  Y2012  \\\n",
       "0     Temperature change   °C  0.777  0.062  2.744  ...  3.601  1.179 -0.583   \n",
       "1     Standard Deviation   °C  1.950  1.950  1.950  ...  1.950  1.950  1.950   \n",
       "2     Temperature change   °C -1.743  2.465  3.919  ...  1.212  0.321 -3.201   \n",
       "3     Standard Deviation   °C  2.597  2.597  2.597  ...  2.597  2.597  2.597   \n",
       "4     Temperature change   °C  0.516  1.336  0.403  ...  3.390  0.748 -0.527   \n",
       "...                  ...  ...    ...    ...    ...  ...    ...    ...    ...   \n",
       "9651  Standard Deviation   °C  0.247  0.247  0.247  ...  0.247  0.247  0.247   \n",
       "9652  Temperature change   °C  0.036  0.461  0.665  ...  0.958  1.106  0.885   \n",
       "9653  Standard Deviation   °C  0.378  0.378  0.378  ...  0.378  0.378  0.378   \n",
       "9654  Temperature change   °C  0.165 -0.009  0.134  ...  1.246  0.805  1.274   \n",
       "9655  Standard Deviation   °C  0.260  0.260  0.260  ...  0.260  0.260  0.260   \n",
       "\n",
       "      Y2013  Y2014  Y2015  Y2016  Y2017  Y2018  Y2019  \n",
       "0     1.233  1.755  1.943  3.416  1.201  1.996  2.951  \n",
       "1     1.950  1.950  1.950  1.950  1.950  1.950  1.950  \n",
       "2     1.494 -3.187  2.699  2.251 -0.323  2.705  0.086  \n",
       "3     2.597  2.597  2.597  2.597  2.597  2.597  2.597  \n",
       "4     2.246 -0.076 -0.497  2.296  0.834  4.418  0.234  \n",
       "...     ...    ...    ...    ...    ...    ...    ...  \n",
       "9651  0.247  0.247  0.247  0.247  0.247  0.247  0.247  \n",
       "9652  1.041  0.999  1.670  1.535  1.194  0.581  1.233  \n",
       "9653  0.378  0.378  0.378  0.378  0.378  0.378  0.378  \n",
       "9654  0.991  0.811  1.282  1.850  1.349  1.088  1.297  \n",
       "9655  0.260  0.260  0.260  0.260  0.260  0.260  0.260  \n",
       "\n",
       "[9656 rows x 66 columns]"
      ]
     },
     "execution_count": 273,
     "metadata": {},
     "output_type": "execute_result"
    }
   ],
   "source": [
    "# lees dataframe temperature changes in\n",
    "temp = pd.read_csv('temperature_change.csv', encoding='latin-1')\n",
    "temp"
   ]
  },
  {
   "cell_type": "code",
   "execution_count": 274,
   "id": "ee9e6e5c",
   "metadata": {},
   "outputs": [
    {
     "name": "stderr",
     "output_type": "stream",
     "text": [
      "C:\\Users\\thijs\\AppData\\Local\\Temp\\ipykernel_9288\\2875976270.py:11: FutureWarning:\n",
      "\n",
      "The default value of numeric_only in DataFrameGroupBy.mean is deprecated. In a future version, numeric_only will default to False. Either specify numeric_only or select only columns which should be valid for the function.\n",
      "\n"
     ]
    }
   ],
   "source": [
    "# zorg dat landen kolom in beide sets zelfde naam heeft\n",
    "temp.rename(columns={'Area': 'Country'}, inplace=True)\n",
    "\n",
    "# stel conditie om alleen op verschil te meten\n",
    "condition = (temp['Element Code'] == 7271)\n",
    "\n",
    "# Filter rijen uit die niet aan conditie voldoen\n",
    "filtered_temp = temp[condition]\n",
    "\n",
    "# groepeer op land\n",
    "temp_grouped = filtered_temp.groupby('Country').mean()\n",
    "\n",
    "# drop onnodige kolommen\n",
    "temp_correct = temp_grouped.drop(['Area Code', 'Months Code', 'Element Code', 'Y1961', 'Y1962', 'Y1963', 'Y1964', 'Y1965', 'Y1966', 'Y1967', 'Y1968', 'Y1969', 'Y1970', 'Y1971', 'Y1972', 'Y1973', 'Y1974', 'Y1975', 'Y1976', 'Y1977', 'Y1978', 'Y1979', 'Y1980', 'Y1981', 'Y1982', 'Y1983', 'Y1984', 'Y1985', 'Y1986', 'Y1987', 'Y1988', 'Y1989', 'Y1990', 'Y1991', 'Y1992', 'Y1993', 'Y1994', 'Y1995', 'Y1996', 'Y1997', 'Y1998', 'Y1999', 'Y2000', 'Y2001', 'Y2002', 'Y2003', 'Y2004', 'Y2005', 'Y2006', 'Y2007', 'Y2008', 'Y2009'], axis=1)\n",
    "\n",
    "# bereken gemiddelde stijging per land\n",
    "temp_correct['Average'] = temp_correct.mean(axis=1)\n",
    "\n",
    "# maak aparte frame voor gemiddelde\n",
    "temp_avg = temp_correct['Average']"
   ]
  },
  {
   "cell_type": "markdown",
   "id": "c46e7320",
   "metadata": {},
   "source": [
    "### PLOT 3: Spreidingsplot voor temperatuursstijging en CO2 uitstoot per land (2010-2019)"
   ]
  },
  {
   "cell_type": "code",
   "execution_count": 275,
   "id": "2856a1a6",
   "metadata": {},
   "outputs": [
    {
     "data": {
      "image/png": "[encoded data removed]",
      "text/plain": [
       "<Figure size 640x480 with 1 Axes>"
      ]
     },
     "metadata": {},
     "output_type": "display_data"
    }
   ],
   "source": [
    "# voeg datasets samen\n",
    "merged_df = pd.merge(CO2_grouped, temp_avg, on='Country', how='inner')\n",
    "merged_df\n",
    "\n",
    "# Maak scatter plot\n",
    "sns.scatterplot(data=merged_df, x='CO2 emission (Tons)', y='Average', label='CO2')\n",
    "\n",
    "# Stel plot titel en labels in\n",
    "plt.title('Correlatie tussen CO2 uitstoot en temperatuursstijging per land')\n",
    "plt.xlabel('CO2 uitstoot per land (ton)')\n",
    "plt.ylabel('Temperatuursstijging')\n",
    "\n",
    "# laat plot zien\n",
    "plt.legend()\n",
    "plt.show()"
   ]
  },
  {
   "cell_type": "markdown",
   "id": "934227f0",
   "metadata": {},
   "source": [
    "*Beschrijving PLOT 3*:\n",
    "- Op de x-as staat de CO2-uitstoot per land (in tonnen)\n",
    "- Op de y-as staat temperatuursstijging per land in graden Celsius\n",
    "- Voor deze plot zijn de twee datasets samengevoegd. Beide variabelen komen dus oorspronkelijk uit andere datasets.\n",
    "- De kern van deze plot is dat er geen correlatie is tussen de temperatuurstijging in een land en de hoeveelheid CO2-uitstoot in datzelfde land."
   ]
  },
  {
   "cell_type": "markdown",
   "id": "f9886f2c",
   "metadata": {},
   "source": [
    "Zoals te zien is in plot 3, is er geen duidelijke correlatie tussen een land dat een hoge CO₂-uitstoot heeft en een temperatuurverhoging in dat specifieke land. Een verklaring hiervoor kan zijn dat de CO₂ die uitgestoten wordt, niet op een nationaal niveau maar op een mondiaal niveau zorgt voor een temperatuurverhoging. Broeikasgassen zoals CO₂ houden warmte vast in de atmosfeer, wat bijdraagt aan de opwarming van de aarde. Dit is een globaal fenomeen, omdat deze gassen gelijkmatig over de hele aardatmosfeer worden verspreid, ongeacht waar ze oorspronkelijk zijn uitgestoten (Chen et al., 2014). Het is dus niet zo dat het gebied waar meer CO₂ wordt uitgestoten ook per se warmer wordt. "
   ]
  },
  {
   "cell_type": "markdown",
   "id": "1b860d1c",
   "metadata": {},
   "source": [
    "### PLOT 4: Landen met een stijging van 1.5 graad celsius"
   ]
  },
  {
   "cell_type": "code",
   "execution_count": 276,
   "id": "a8001ea9",
   "metadata": {},
   "outputs": [
    {
     "data": {
      "image/png": "[encoded data removed]",
      "text/plain": [
       "<Figure size 1000x600 with 1 Axes>"
      ]
     },
     "metadata": {},
     "output_type": "display_data"
    }
   ],
   "source": [
    "# voeg datasets samen\n",
    "result = pd.merge(CO2_grouped, temp_avg, on='Country', how='inner')\n",
    "\n",
    "# Filter data op 1.5 graad of hoger\n",
    "filtered_result = result[result['Average'] >= 1.5]\n",
    "\n",
    "# stel grootte in\n",
    "plt.figure(figsize=(10, 6))\n",
    "\n",
    "# maak bar plot\n",
    "filtered_result['Average'].plot(kind='bar')\n",
    "\n",
    "# Stel x-axis label in\n",
    "plt.xlabel('Land')\n",
    "\n",
    "# Stel y-axis label in\n",
    "plt.ylabel('Gemiddelde toename')\n",
    "\n",
    "# Maak titel\n",
    "plt.title('Gemiddelde temperatuur stijging tussen 2010 en 2019 per land (hoger dan 1,5 graden)')\n",
    "\n",
    "# laat plot zien\n",
    "plt.show()"
   ]
  },
  {
   "cell_type": "markdown",
   "id": "d2335246",
   "metadata": {},
   "source": [
    "*Beschrijving PLOT 4*:\n",
    "- Op de x-as staan landen die in aanmerking komen voor het feit dat hun temperatuur boven de anderhalve graad Celsius is gestegen.\n",
    "- Op de y-as staat temperatuursstijging per in graden Celsius\n",
    "- Voor deze plot zijn de landen gefilterd op het feit of ze voldoen aan de anderhalve graad norm.\n",
    "- De kern van deze plot is dat er veel landen zijn die niet perse een hoge uitstoot hebben, maar toch de dupe zijn van temperatuursstijgingen."
   ]
  },
  {
   "cell_type": "markdown",
   "id": "c55b7f00",
   "metadata": {},
   "source": [
    "In plot 4 zijn de landen te zien die te maken hebben met een opwarming van anderhalf graden celsius of hoger. Er zijn twee dingen merkwaardig aan deze plot. Allereerst, zijn alle landen op deze plot onderdeel van het noordelijk halfrond van de aarde. Wat ook opvallend is, is dat veel van deze landen geen grote uitstoters zijn. Neem bijvoorbeeld een land als Luxemburg of Tsjechië, dat zijn twee vrij 'onschuldige' landen als het gaat om mondiale uitstoot. Die landen hebben echter toch te maken met een aanzienlijk temperatuursverschil ten op zichte van een decennium geleden. Dit bevestigt dan ook het feit dat klimaatverandering geen lokale kwestie is, maar juist een probleem wat invloed heeft op alle landen, ongeacht het aandel van uitstoot."
   ]
  },
  {
   "cell_type": "markdown",
   "id": "3af30d8b",
   "metadata": {},
   "source": [
    "### PLOT 5: Gemiddelde mondiale temperatuursstijging"
   ]
  },
  {
   "cell_type": "code",
   "execution_count": 277,
   "id": "6b5de919",
   "metadata": {},
   "outputs": [
    {
     "data": {
      "image/png": "[encoded data removed]",
      "text/plain": [
       "<Figure size 640x480 with 1 Axes>"
      ]
     },
     "metadata": {},
     "output_type": "display_data"
    }
   ],
   "source": [
    "# Drop 'Average' kolom van DataFrame\n",
    "temp_correct = temp_correct.drop(['Average'], axis=1)\n",
    "\n",
    "# Herstructureer data\n",
    "melted_data = temp_correct.melt(var_name='Year', value_name='Temperature')\n",
    "\n",
    "# Groepeer data op jaarbasis\n",
    "data = melted_data.groupby(['Year']).mean()\n",
    "\n",
    "# Maak lijndiagram\n",
    "data['Temperature'].plot(kind='line')\n",
    "\n",
    "# Voeg titels en as labels toe\n",
    "plt.xlabel('Jaar')\n",
    "plt.ylabel('Temperatuurstijging')\n",
    "plt.title('Gemiddelde mondiale temperatuurstijging tussen 2010 en 2019')\n",
    "\n",
    "# laat plot zien\n",
    "plt.show()"
   ]
  },
  {
   "cell_type": "markdown",
   "id": "21b12e56",
   "metadata": {},
   "source": [
    "*Beschrijving PLOT 5*:\n",
    "- Op de x-as staan de jaartallen.\n",
    "- Op de y-as staat temperatuursstijging per in graden Celsius\n",
    "- De kern van deze plot is dat de mondiale temperatuur tussen 2010 en 2019 gestegen is."
   ]
  },
  {
   "cell_type": "markdown",
   "id": "3e5fa147",
   "metadata": {},
   "source": [
    "In plot 5 is de gemiddelde mondiale temperatuurstijging tussen 2010 en 2019 te zien. Er valt te zien dat na 2012, de temperatuur op wereldwijde schaal elk jaar meer gestegen is. Er kan dus gesteld worden dat het gemiddeld warmer is geworden op de wereld. Dit past bij het perspectief dat klimaatverandering een mondiaal fenomeen is, en niet iets wat alleen in bepaalde landen plaatsvindt. Deze trend kan dus ook gekoppeld worden aan de wereldwijde opwarming van de aarde. Als de waarde elk jaar boven de nul uitkomt, is er sowieso sprake van opwarming, maar omdat de stijging bijna elk jaar hoger is dan het jaar ervoor kan er worden gesteld dat de temperatuur dus jaarlijkst stijgt."
   ]
  },
  {
   "cell_type": "markdown",
   "id": "0fd7e727",
   "metadata": {},
   "source": [
    "## BRONNEN\n",
    "Chen, Y., Li, B., Li, Z., & Shi, X. (2014). Quantitatively evaluating the effects of CO2 emission on temperature rise. Quaternary International, 336, 171–175. https://doi.org/10.1016/j.quaint.2013.11.031\n",
    "\n",
    "Ministerie van Infrastructuur en Waterstaat. (2023, April 26). Klimaatverandering en gevolgen. Klimaatverandering | Rijksoverheid.nl. https://www.rijksoverheid.nl/onderwerpen/klimaatverandering/gevolgen-klimaatverandering"
   ]
  },
  {
   "cell_type": "markdown",
   "id": "33c73bd1",
   "metadata": {},
   "source": [
    "# GENERATIVE AI VERMELDING\n",
    "Voor dit project is er voor een aantal gevallen gebruik gemaakt van het platform ChatGPT van OpenAI."
   ]
  },
  {
   "attachments": {
    "Chatgpt%20vermelding%20data%20story.png": {
     "image/png": "[encoded data removed]"
    }
   },
   "cell_type": "markdown",
   "id": "b7f4716c",
   "metadata": {},
   "source": [
    "![Chatgpt%20vermelding%20data%20story.png](attachment:Chatgpt%20vermelding%20data%20story.png)"
   ]
  }
 ],
 "metadata": {
  "kernelspec": {
   "display_name": "Python 3 (ipykernel)",
   "language": "python",
   "name": "python3"
  },
  "language_info": {
   "codemirror_mode": {
    "name": "ipython",
    "version": 3
   },
   "file_extension": ".py",
   "mimetype": "text/x-python",
   "name": "python",
   "nbconvert_exporter": "python",
   "pygments_lexer": "ipython3",
   "version": "3.10.9"
  }
 },
 "nbformat": 4,
 "nbformat_minor": 5
}
